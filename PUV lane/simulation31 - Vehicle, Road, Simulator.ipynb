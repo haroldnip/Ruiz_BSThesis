{
 "cells": [
  {
   "cell_type": "markdown",
   "id": "521338b8-a5d0-4352-ae85-9562e5318fc0",
   "metadata": {},
   "source": [
    "This simulation aims to model a three-lane road with heterogeneous vehicles.   \n",
    "\n",
    "Road features\n",
    "The road has a PUV lane for jeepneys and minibuses. The rightmost lane is the PUV lane. \"Lanes\" should not be confused with \"cell rows\". One lane is two cells wide. In this simulation, \n",
    "the road has 3 lanes, and hence, 6 cells wide. An additional 1-cell row is added to serve as a pedestrian holding area for passengers waiting for a ride to public utility vehicles.\n",
    "\n",
    "Boundary conditions\n",
    "Vehicles appear on the beginning of the road on a certain probability. When it reaches the end, it disappears.\n",
    "\n",
    "Vehicles and its behavior\n",
    "\n",
    "1. Cars (2x2) - Confined to the two lanes together with trucks and motorcycles. Capable of lane changing.\n",
    "2. Motorcycles (1x1) - Confined to the two lanes together with trucks and cars. Capable of lane changing.\n",
    "3. Trucks(7x2) - Confined to the two lanes together with cars and motorcycles. Capable of lane changing.\n",
    "\n",
    "4. Jeep (3x2) - Public Utility vehicle. Confined in the PUV lane with minibuses. Cannot change lane. This vehicle makes sudden stops to load/unload passengers.\n",
    "5. Minibuses (4x2) - Public Utility vehicle. Confined in the PUV lane with minibuses. Cannot change lane. This vehicle makes sudden stops to load/unload passengers.\n",
    "\n",
    "Passenger Count per Vehicle\n",
    "We define passenger as an individual that needs to ride a specific mode of transportation to move from one place to another. Truck drivers and conductors are not counted as passengers. Passengers also include PUVs, car and motorcycle drivers. \n",
    "\n",
    "1. Cars(can accomodate 1-5 passengers)\n",
    "2. Motorcycles(can accomodate 1-2 passengers)\n",
    "3. Trucks(0 passengers, load mainly for commercial purposes)\n",
    "4. Jeep (can accomodate 20-25 passengers)'\n",
    "5. Minibuses(can accomodate (25-27 passengers)"
   ]
  },
  {
   "cell_type": "markdown",
   "id": "c5b46339-2532-4b63-9e20-bcb3ea86e093",
   "metadata": {},
   "source": [
    "Let's start with the case of no lane changing on non-PUV lanes."
   ]
  },
  {
   "cell_type": "code",
   "execution_count": 113,
   "id": "826c633d-16be-44db-8369-eb2674d59803",
   "metadata": {},
   "outputs": [],
   "source": [
    "import numpy as np\n",
    "import matplotlib.pyplot as plt"
   ]
  },
  {
   "cell_type": "code",
   "execution_count": 114,
   "id": "db35cb1c-80cf-4ae6-bad7-c2af4e7f26aa",
   "metadata": {},
   "outputs": [],
   "source": [
    "class Vehicle:\n",
    "    def __init__(self, x_position, speed, max_speed, length, width, road_designation, vehicle_type, current_lane, lane_changing_prob):\n",
    "        self.x_position = x_position #position along the length of the road (x position)\n",
    "        self.speed = speed #number of cells the vehicle will move per timestep\n",
    "        self.max_speed = max_speed #maximum speed\n",
    "        self.braking_prob = 0.01 #probability of random slowdown\n",
    "        self.length = length #length of the vehicle is the number of cells the vehicle occupies along the length of the road\n",
    "        self.width = width #width of the vehicle is the number of cells the vehicle occupies along the width of the road\n",
    "        self.road_designation = road_designation #the road where the vehicle is currently located\n",
    "        self.vehicle_type = vehicle_type #type of vehicle is determined by the size and behavior\n",
    "        self.current_lane = current_lane #also known as the y position of the left side of the vehicle\n",
    "        self.lane_changing_prob = lane_changing_prob\n",
    "        \n",
    "    def accelerate(self): \n",
    "        \"\"\"Increases vehicle's speed by 1 cell, up to the maximum speed\"\"\"\n",
    "        if self.speed < self.max_speed:\n",
    "            self.speed += 1 \n",
    "\n",
    "    def decelerate(self, gap_distance):\n",
    "        \"\"\"decreases vehicle's speed to match the gap distance, given the speed>gap distance\"\"\"\n",
    "        if self.speed > gap_distance:\n",
    "            self.speed = gap_distance #the gap distance is the distance between follower vehicle front bumper and leading vehicle rear bumper\n",
    "            \n",
    "    def randomize(self, braking_prob):\n",
    "        \"\"\"Mimics random slowdown, randomly decreases vehicle's speed based on braking probability \"\"\"\n",
    "        if np.random.rand() < self.braking_prob:\n",
    "            if self.speed > 0:\n",
    "                self.speed -= 1\n",
    "\n",
    "    def lane_changing(self):\n",
    "        \"\"\"attempts to change lanes based on vehicle type and lane availability\"\"\"\n",
    "        #Here, we define a lane as a space of 2 cells wide. We assume a three-lane road(6 cells wide, with 1 cell wide passenger holding area beside)\n",
    "        #we assume that each half lane is an array, imagine a vertical stack of arrays, indexing is from top to bottom. Right side is the bottom.\n",
    "        if np.random.rand() < self.lane_changing_prob: #provide here a mechanism that checks the other lanes before lane changing(IT IS AN IMPERATIVE TO DO THAT) --- DONE\n",
    "            new_lane = self.current_lane\n",
    "            if self.vehicle_type in ['car', 'truck']:\n",
    "                if self.current_lane < self.road_designation.road_width - 5: #This is slightly hardcoded. \n",
    "                        new_lane = self.current_lane + 1 #if on lanes 0 and 1\n",
    "                elif self.current_lane < self.road_designation.road_width - 4 and self.current_lane > 0: #This is slightly hardcoded. \n",
    "                        new_lane = self.current_lane - 1 #if on lanes 1, 2\n",
    "            if self.vehicle_type in ['motorcycle']: \n",
    "                if self.current_lane < self.road_designation.road_width - 4:\n",
    "                        new_lane = self.current_lane + 1 #if on lanes 0-2\n",
    "                elif self.current_lane < self.road_designation.road_width - 3 and self.current_lane > 0: #This is slightly hardcoded. \n",
    "                        new_lane = self.current_lane - 1 #if on lanes 1-3\n",
    "            #Check for space on the lane of interest\n",
    "            if self.road_designation.road_occupancy[self.x_position+self.length, new_lane] == 0: #This is slightly hardcoded. \n",
    "                self.current_lane = new_lane"
   ]
  },
  {
   "cell_type": "code",
   "execution_count": 115,
   "id": "1e6720b7-5b09-49ef-bf37-4410b8d6894e",
   "metadata": {},
   "outputs": [],
   "source": [
    "class Road:\n",
    "    def __init__(self, road_length, road_width, speed_limit):\n",
    "        self.road_length = road_length\n",
    "        self.road_width = road_width\n",
    "        self.speed_limit = speed_limit\n",
    "        self.road_occupancy = np.zeros((road_length, road_width)) #note that this road is vertical when printed/visualized"
   ]
  },
  {
   "cell_type": "code",
   "execution_count": 116,
   "id": "8df2e9b2-400f-44e2-80d2-828122118b4a",
   "metadata": {},
   "outputs": [],
   "source": [
    "class IntraRoadSimulator:\n",
    "    def __init__(self, road):\n",
    "        \"\"\"This method stores the necessary information to move the vehicles in a given space(road)\"\"\"\n",
    "        self.road = road #this class demands an input road\n",
    "        self.car_production_prob = 0.9\n",
    "        self.jeep_production_prob = 0.9\n",
    "        self.minibus_production_prob = 0.9\n",
    "        self.truck_production_prob = 0.9\n",
    "        self.motor_production_prob = 0.9\n",
    "        self.vehicles = [] #collection of vehicles on the road\n",
    "        self.occupancy_history = [] #initializes an empty array to store the road configuration for visualization purposes\n",
    "\n",
    "    def update_occupancy(self):\n",
    "        \"\"\"This method updates road occupancy. Occupied is 1, while empty is 0\"\"\"\n",
    "        self.road.road_occupancy.fill(0) #clears the occupancy information from the previous timestep. One road occupancy array is good for one timestep.\n",
    "        for vehicle in self.vehicles: #updates occupancy for all vehicles\n",
    "            if vehicle.x_position < self.road.road_length - 1: #check if the position of the vehicle does not exceed road bounds\n",
    "                #The following details the rear and front bumper of a vehicle\n",
    "                x_start = vehicle.x_position #location of the rear bumper\n",
    "                x_end = min(vehicle.x_position + vehicle.length, self.road.road_length) #location of the front bumper\n",
    "                y_start = vehicle.current_lane #left side of the vehicle\n",
    "                y_end = min(vehicle.current_lane + vehicle.width, self.road.road_width)#right side of the vehicle\n",
    "                self.road.road_occupancy[x_start:x_end, y_start:y_end] = 1 #Declare the occupied cells. Note that x_end and y_end are not inclusive of the range.\n",
    "        self.occupancy_history.append(self.road.road_occupancy.copy()) #stores the occupancy per iteration\n",
    "    \n",
    "    def produce_vehicles(self):\n",
    "        \"\"\"This method determines the vehicle types to be produced and lane designations\"\"\"\n",
    "        vehicle_type = None\n",
    "        vehicle_length = 0\n",
    "        vehicle_width = 0\n",
    "        current_lane = 0\n",
    "        lane_changing_prob = 0\n",
    "\n",
    "        if np.random.rand() < self.car_production_prob:\n",
    "            vehicle_type = 'car'\n",
    "            vehicle_length = 2\n",
    "            vehicle_width = 2\n",
    "            restricted_lanes = 4 #Note the current lane is the y position of the left(upper) part of the vehicle. Cars can only be at lanes 0-2\n",
    "            current_lane = np.random.choice(range(0, self.road.road_width - restricted_lanes, 1)) #4 lanes restricted\n",
    "            lane_changing_prob = 0.01\n",
    "        elif np.random.rand() < self.truck_production_prob:\n",
    "            vehicle_type = 'truck'\n",
    "            vehicle_length = 7\n",
    "            vehicle_width = 2\n",
    "            restricted_lanes = 4 #trucks can only be at lanes 0-2\n",
    "            current_lane = np.random.choice(range(0, self.road.road_width - restricted_lanes, 1)) #4 lanes restricted\n",
    "            lane_changing_prob = 0.01\n",
    "        elif np.random.rand() < self.motor_production_prob:\n",
    "            vehicle_type = 'motorcycle'\n",
    "            vehicle_length = 1\n",
    "            vehicle_width = 1\n",
    "            restricted_lanes = 3 #motorcycles can only be at lanes 0-3\n",
    "            current_lane = np.random.choice(range(0, self.road.road_width - restricted_lanes, 1)) #3 lanes restricted\n",
    "            lane_changing_prob = 0.01\n",
    "        elif np.random.rand() < self.jeep_production_prob:\n",
    "            vehicle_type = 'jeep'\n",
    "            vehicle_length = 3\n",
    "            vehicle_width = 2\n",
    "            restricted_lanes = 2 #jeeps can only be at lane 4\n",
    "            current_lane = self.road.road_width - restricted_lanes - 1 #2 lanes restricted, -1 to account for indexing that start at 0\n",
    "            lane_changing_prob = 0\n",
    "        elif np.random.rand() < self.minibus_production_prob:\n",
    "            vehicle_type = 'minibus'\n",
    "            vehicle_length = 4\n",
    "            vehicle_width = 2\n",
    "            restricted_lanes = 2 #minibuses can only be at lane 4\n",
    "            current_lane = self.road.road_width - restricted_lanes -1 #2 lanes restricted, -1 to account for indexing that start at 0\n",
    "            lane_changing_prob = 0\n",
    "\n",
    "        return vehicle_type, vehicle_length, vehicle_width, current_lane, lane_changing_prob\n",
    "\n",
    "    def road_checker(self, vehicle_type, vehicle_length, vehicle_width, current_lane, lane_changing_prob):\n",
    "        \"\"\"This method checks for the initial part of the road corresponding to the vehicle dimensions\"\"\"\n",
    "        road_portion_checked = self.road.road_occupancy[0:vehicle_length, current_lane:current_lane + vehicle_width]\n",
    "        if np.sum(road_portion_checked) == 0: #checks if the start of the road is empty\n",
    "            new_vehicle_speed = np.random.randint(1, self.road.speed_limit + 1) \n",
    "            new_vehicle = Vehicle(0, new_vehicle_speed, self.road.speed_limit, vehicle_length, vehicle_width, self.road, vehicle_type, current_lane, lane_changing_prob) #facilitates spawning of vehicles\n",
    "            self.vehicles.append(new_vehicle)\n",
    "            self.road.road_occupancy[0:new_vehicle.length, current_lane:current_lane + new_vehicle.width] = 1\n",
    "        else:\n",
    "            pass\n",
    "\n",
    "    def gap_distance(self, vehicle):\n",
    "        \"\"\"This method obtains the distance between the front bumper of the follower vehicle and the rear bumper of the leading vehicle\"\"\"\n",
    "        current_x_position = vehicle.x_position #thisis the position of a vehicle's rear bumper\n",
    "        maximum_possible_distance = self.road.road_length - current_x_position - vehicle.length #note that prospective x positions should also take account of the space of vehicle front\n",
    "        for distance in range(1, maximum_possible_distance + 1):\n",
    "            next_x_position = current_x_position + vehicle.length + distance\n",
    "            if next_x_position >= self.road.road_length:\n",
    "                return distance - 1\n",
    "            if np.any(self.road.road_occupancy[next_x_position:vehicle.length, vehicle.current_lane:vehicle.width] == 1):\n",
    "                return distance - 1 #SHOULD I  include MINUS 1 HERE???\n",
    "        return maximum_possible_distance\n",
    "\n",
    "    def update(self):\n",
    "        vehicle_type, vehicle_length, vehicle_width, current_lane, lane_changing_prob = self.produce_vehicles()\n",
    "        self.road_checker(vehicle_type, vehicle_length, vehicle_width, current_lane, lane_changing_prob)        \n",
    "        for vehicle in self.vehicles:\n",
    "            distance_to_next = self.gap_distance(vehicle)\n",
    "            vehicle.accelerate()\n",
    "            vehicle.decelerate(distance_to_next)\n",
    "            vehicle.randomize(vehicle.braking_prob)\n",
    "            vehicle.x_position += vehicle.speed\n",
    "            vehicle.lane_changing()\n",
    "        \n",
    "        self.vehicles = [vehicle for vehicle in self.vehicles if vehicle.x_position < self.road.road_length]  # Remove vehicles that have exited the road\n",
    "\n",
    "        self.update_occupancy()"
   ]
  },
  {
   "cell_type": "code",
   "execution_count": 76,
   "id": "b42e1833-e970-42ee-afbb-bd9c6a0c5f05",
   "metadata": {},
   "outputs": [
    {
     "data": {
      "text/plain": [
       "9"
      ]
     },
     "execution_count": 76,
     "metadata": {},
     "output_type": "execute_result"
    }
   ],
   "source": [
    "len(simulator.occupancy_history)"
   ]
  },
  {
   "cell_type": "code",
   "execution_count": 119,
   "id": "cb940937-dca9-47f9-8e4c-ac57e64acabc",
   "metadata": {},
   "outputs": [
    {
     "data": {
      "image/png": "[encoded data removed]",
      "text/plain": [
       "<Figure size 2000x1500 with 1 Axes>"
      ]
     },
     "metadata": {},
     "output_type": "display_data"
    }
   ],
   "source": [
    "def visualize_road(occupancy_history):\n",
    "    T = len(occupancy_history)\n",
    "    road_length = occupancy_history[0].shape[0]\n",
    "    road_width = occupancy_history[0].shape[1]\n",
    "\n",
    "    road_states = np.array(occupancy_history).reshape((T * road_width, road_length))\n",
    "\n",
    "    plt.figure(figsize=(20, 15))\n",
    "    plt.imshow(road_states, cmap='binary', aspect='auto', origin='lower')\n",
    "    plt.xticks(range(0, road_length, 1))\n",
    "    plt.yticks(range(0, T * road_width, road_width), range(0, T))\n",
    "    plt.xlabel('Position')\n",
    "    plt.ylabel('Time Step')\n",
    "    plt.title('Road Visualization')\n",
    "    plt.grid(True)\n",
    "    plt.tight_layout()\n",
    "    plt.show()\n",
    "\n",
    "# Define the road\n",
    "road = Road(road_length=90, road_width=7, speed_limit=5)\n",
    "# Create the simulator\n",
    "simulator = IntraRoadSimulator(road)\n",
    "# Run the simulation\n",
    "for _ in range(20):\n",
    "    simulator.update()\n",
    "# Visualize the road\n",
    "visualize_road(simulator.occupancy_history)"
   ]
  },
  {
   "cell_type": "markdown",
   "id": "7963fc3f-fa30-4383-b2ec-6f861bb70f83",
   "metadata": {},
   "source": [
    "The following contents are just testers"
   ]
  },
  {
   "cell_type": "code",
   "execution_count": null,
   "id": "431c04e9-d6ab-466b-9742-8be9950ef237",
   "metadata": {},
   "outputs": [],
   "source": [
    "   \"\"\"def visualize_road(self, T): #just for sanity check\n",
    "    # Initialize a 3D array to hold the state of the road at each timestep.\n",
    "        road_states = np.zeros((T, self.road.road_length, self.road.road_width))\n",
    "    \n",
    "        for timestep in range(T):\n",
    "            self.update()\n",
    "            for vehicle in self.vehicles:\n",
    "                for j in range(vehicle.length):\n",
    "                    if vehicle.x_position + j < self.road.road_length:\n",
    "                        road_states[timestep, vehicle.x_position + j, vehicle.current_lane:vehicle.current_lane + vehicle.width] = 1\n",
    "    \n",
    "    # Reshape road_states to stack the road width dimension for each timestep\n",
    "        road_states = road_states.reshape((T * self.road.road_width, self.road.road_length))\n",
    "\n",
    "    # Create the plot\n",
    "        plt.figure(figsize=(12, 8))\n",
    "        plt.imshow(road_states, cmap='binary', aspect='auto', origin='lower')\n",
    "        plt.xticks(range(0, self.road.road_length, 1))\n",
    "        plt.yticks(range(0, T * self.road.road_width, self.road.road_width), range(1, T + 1))\n",
    "        plt.xlabel('Position')\n",
    "        plt.ylabel('Time Step')\n",
    "        plt.title('Road Visualization')\n",
    "        plt.show()\"\"\""
   ]
  },
  {
   "cell_type": "code",
   "execution_count": 80,
   "id": "98ed92e6-4314-449f-a671-d4d3f7132e34",
   "metadata": {},
   "outputs": [
    {
     "data": {
      "text/plain": [
       "\u001b[0;31mInit signature:\u001b[0m \u001b[0mrange\u001b[0m\u001b[0;34m(\u001b[0m\u001b[0mself\u001b[0m\u001b[0;34m,\u001b[0m \u001b[0;34m/\u001b[0m\u001b[0;34m,\u001b[0m \u001b[0;34m*\u001b[0m\u001b[0margs\u001b[0m\u001b[0;34m,\u001b[0m \u001b[0;34m**\u001b[0m\u001b[0mkwargs\u001b[0m\u001b[0;34m)\u001b[0m\u001b[0;34m\u001b[0m\u001b[0;34m\u001b[0m\u001b[0m\n",
       "\u001b[0;31mDocstring:\u001b[0m     \n",
       "range(stop) -> range object\n",
       "range(start, stop[, step]) -> range object\n",
       "\n",
       "Return an object that produces a sequence of integers from start (inclusive)\n",
       "to stop (exclusive) by step.  range(i, j) produces i, i+1, i+2, ..., j-1.\n",
       "start defaults to 0, and stop is omitted!  range(4) produces 0, 1, 2, 3.\n",
       "These are exactly the valid indices for a list of 4 elements.\n",
       "When step is given, it specifies the increment (or decrement).\n",
       "\u001b[0;31mType:\u001b[0m           type\n",
       "\u001b[0;31mSubclasses:\u001b[0m     "
      ]
     },
     "metadata": {},
     "output_type": "display_data"
    }
   ],
   "source": [
    "?range"
   ]
  },
  {
   "cell_type": "code",
   "execution_count": 83,
   "id": "1c3cca0e-fd2a-4a71-82cf-f33cabcc8dcf",
   "metadata": {},
   "outputs": [
    {
     "name": "stdout",
     "output_type": "stream",
     "text": [
      "0\n",
      "1\n",
      "2\n",
      "3\n"
     ]
    }
   ],
   "source": [
    "for i in range(4):\n",
    "    print(i)"
   ]
  },
  {
   "cell_type": "code",
   "execution_count": 88,
   "id": "a5145e8d-031c-457e-8b87-f4ea5984d495",
   "metadata": {},
   "outputs": [],
   "source": [
    "t = range(4)"
   ]
  },
  {
   "cell_type": "code",
   "execution_count": 96,
   "id": "2457d086-0ac5-4804-b014-7ab7a727e917",
   "metadata": {},
   "outputs": [
    {
     "data": {
      "text/plain": [
       "0"
      ]
     },
     "execution_count": 96,
     "metadata": {},
     "output_type": "execute_result"
    }
   ],
   "source": [
    "np.random.choice(t)"
   ]
  },
  {
   "cell_type": "markdown",
   "id": "8db8f783-a5e6-4e87-8e9b-fc220b26c653",
   "metadata": {},
   "source": [
    "Visualization tester"
   ]
  },
  {
   "cell_type": "code",
   "execution_count": 25,
   "id": "01e05c40-86e2-4a26-9de5-d768a3bbd2b6",
   "metadata": {},
   "outputs": [
    {
     "name": "stdout",
     "output_type": "stream",
     "text": [
      "[[0. 0. 0. 0. 0. 0. 0. 0. 0. 0.]\n",
      " [1. 1. 1. 0. 0. 0. 0. 0. 0. 0.]\n",
      " [1. 1. 1. 0. 0. 0. 0. 0. 0. 0.]\n",
      " [0. 0. 0. 0. 0. 0. 0. 0. 0. 0.]\n",
      " [0. 0. 0. 0. 0. 0. 0. 0. 0. 0.]\n",
      " [0. 0. 0. 0. 0. 0. 0. 0. 0. 0.]\n",
      " [0. 0. 0. 0. 0. 0. 0. 0. 0. 0.]]\n"
     ]
    }
   ],
   "source": [
    "import numpy as np\n",
    "import matplotlib.pyplot as plt\n",
    "road_length = 10\n",
    "road_width = 7\n",
    "road_occupancy = np.zeros((road_length, road_width))\n",
    "road_occupancy[0:3, 1:3]=1\n",
    "print(road_occupancy.T) #get the transpose para ma-visualize horizontally properly"
   ]
  },
  {
   "cell_type": "code",
   "execution_count": 26,
   "id": "ad54baa7-deb0-4cdd-8022-599304c3eaf3",
   "metadata": {},
   "outputs": [
    {
     "data": {
      "text/plain": [
       "<matplotlib.image.AxesImage at 0x7fe57dbcd210>"
      ]
     },
     "execution_count": 26,
     "metadata": {},
     "output_type": "execute_result"
    },
    {
     "data": {
      "image/png": "[encoded data removed]",
      "text/plain": [
       "<Figure size 640x480 with 1 Axes>"
      ]
     },
     "metadata": {},
     "output_type": "display_data"
    }
   ],
   "source": [
    "plt.imshow(road_occupancy, cmap='binary')"
   ]
  },
  {
   "cell_type": "code",
   "execution_count": 105,
   "id": "951dd0a6-1c81-4dd4-9dc9-68ed3a33f843",
   "metadata": {},
   "outputs": [
    {
     "data": {
      "text/plain": [
       "2"
      ]
     },
     "execution_count": 105,
     "metadata": {},
     "output_type": "execute_result"
    }
   ],
   "source": [
    "np.random.randint(1, road.speed_limit + 1)"
   ]
  },
  {
   "cell_type": "code",
   "execution_count": null,
   "id": "05945a9c-65b8-47e0-823e-00d286ba6bc5",
   "metadata": {},
   "outputs": [],
   "source": []
  },
  {
   "cell_type": "code",
   "execution_count": null,
   "id": "a7a55d30-da82-4ea2-a05e-704e523d24dd",
   "metadata": {},
   "outputs": [],
   "source": []
  }
 ],
 "metadata": {
  "kernelspec": {
   "display_name": "Python [conda env:cx_team]",
   "language": "python",
   "name": "conda-env-cx_team-py"
  },
  "language_info": {
   "codemirror_mode": {
    "name": "ipython",
    "version": 3
   },
   "file_extension": ".py",
   "mimetype": "text/x-python",
   "name": "python",
   "nbconvert_exporter": "python",
   "pygments_lexer": "ipython3",
   "version": "3.11.6"
  }
 },
 "nbformat": 4,
 "nbformat_minor": 5
}
