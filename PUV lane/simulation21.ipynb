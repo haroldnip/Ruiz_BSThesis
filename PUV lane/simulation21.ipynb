{
 "cells": [
  {
   "cell_type": "markdown",
   "id": "c3c5747b-0c4c-4328-ad2c-722457ceb329",
   "metadata": {},
   "source": [
    "This model aims to simulate a simple case of a three-lane road with one lane designated as a PUV lane. Homogeneous vehicles"
   ]
  },
  {
   "cell_type": "code",
   "execution_count": 8,
   "id": "a0d6c216-cc1c-4307-9e41-785ce83e3f0c",
   "metadata": {},
   "outputs": [],
   "source": [
    "import numpy as np\n",
    "import matplotlib.pyplot as plt"
   ]
  },
  {
   "cell_type": "code",
   "execution_count": 9,
   "id": "97b874ac-f0a3-43e3-b1cf-ee068d759218",
   "metadata": {},
   "outputs": [],
   "source": [
    "class Vehicle:\n",
    "    def __init__(self, x_position, y_position, speed, max_speed, length, width, road_designation, vehicle_type, current_lane, lane_changing_prob):\n",
    "    #This specified the dimensions and attributes of vehicles. Vehicle identification is also incorporated by assigning IDs\n",
    "        self.x_position = x_position #horizontal position\n",
    "        self.y_position = y_position #vertical position or lane deisgnation (current lane is the same)\n",
    "        self.speed = speed #number of cells the vehicle moves per timestep\n",
    "        self.max_speed = max_speed #maximum speed allowed for a vehicle\n",
    "        self.braking_prob = 0.01 #probability of braking\n",
    "        self.length = length #x dimension of vehicle\n",
    "        self.width = width #y dimension of vehicle\n",
    "        self.road_designation = road_designation #identify of the road where the vehicle is\n",
    "        self.vehicle_type = vehicle_type #type of vehicle(car, jeep, truck, minibus, motor)\n",
    "        self.current_lane = current_lane\n",
    "        self.lane_changing_prob = lane_changing_prob #probability of lane changing\n",
    "\n",
    "    def accelerate(self):\n",
    "    #Accelerate the vehicle by increments of 1 if maximum speed is not yet attained\n",
    "        if self.speed < self.max_speed:\n",
    "            self.speed += 1 \n",
    "\n",
    "    def decelerate(self, gap_distance):\n",
    "    #Decrease the speed of the vehicle if the gap distance is less than current speed\n",
    "        if self.speed > gap_distance:\n",
    "            self.speed = gap_distance\n",
    "\n",
    "    def randomize(self, braking_prob):\n",
    "    #Randomly decrease the speed of the vehicle based on braking probability\n",
    "        if np.random.rand() < braking_prob:\n",
    "            if self.speed > 0:\n",
    "                self.speed -= 1\n",
    "\n",
    "    def lane_changing(self): #Let's assume assume a three-lane road(3 cells wide)\n",
    "        if np.random.rand() < self.lane_changing_prob:\n",
    "            if self.current_lane == 1: #road width is 6\n",
    "                self.current_lane += 1 #there's a chance of swtiching left or right, for cars, \n",
    "            elif self.current_lane == 2: #Lanes 0 and 1 are PUV lanes, you cannot move to occupy these lanes if you are in lane 2\n",
    "                self.current_lane -= 1\n",
    "            #No lane changing for PUVs(jeeps and minibuses)"
   ]
  },
  {
   "cell_type": "code",
   "execution_count": 10,
   "id": "e235d4c8-1848-4687-add4-7e30c49d8ac8",
   "metadata": {},
   "outputs": [],
   "source": [
    "class Road:\n",
    "    def __init__(self, road_id, road_length, road_width, speed_limit, has_toll_gate = False):\n",
    "        #Road features\n",
    "        self.road_id = road_id\n",
    "        self.road_length = road_length\n",
    "        self.road_width = road_width\n",
    "        self.road_occupancy = np.zeros((self.road_length, self.road_width), dtype=int) #initialize a state of road occupancy\n",
    "        self.speed_limit = speed_limit #maximum speed possible"
   ]
  },
  {
   "cell_type": "code",
   "execution_count": 56,
   "id": "8c0ec256-d8a0-4bc8-b5e3-08417145dc97",
   "metadata": {},
   "outputs": [],
   "source": [
    "class IntraRoadSimulator:\n",
    "    def __init__(self, road):\n",
    "        self.road = road\n",
    "        self.priv_vehicle_production_prob = 0.9\n",
    "        self.PUV_production_prob = 0.9\n",
    "        self.vehicles = [] #initialize an empty list of vehicles (road knows the vehicles in it)\n",
    "        \n",
    "    def update_occupancy(self):\n",
    "        #Updates the state of occupancy of the road. 0 means unoccupied, 1 means occupied\n",
    "        self.road.road_occupancy.fill(0)  # Reset occupancy grid\n",
    "        for vehicle in self.vehicles:\n",
    "            if vehicle.x_position < self.road.road_length and vehicle.y_position < self.road.road_width :  # Only update occupancy if within road length and width\n",
    "                self.road.road_occupancy[vehicle.x_position, vehicle.y_position] = 1  # Assuming (y + n) lanes\n",
    "    \n",
    "    def produce_vehicles(self):\n",
    "        #This method determines the production of new vehicles\n",
    "        vehicle_type = None\n",
    "        vehicle_length = 0\n",
    "        vehicle_width = 0\n",
    "        current_lane = 0\n",
    "        lane_changing_prob = 0\n",
    "\n",
    "        if np.random.rand() < self.priv_vehicle_production_prob: #Determines the instance/time to produce vehicles\n",
    "            vehicle_type = 'private vehicle' \n",
    "            vehicle_length = 1\n",
    "            vehicle_width = 1\n",
    "            current_lane = np.random.choice(range(0, self.road.road_width, 1)) #pick an initial lane\n",
    "            lane_changing_prob = 0.01\n",
    "        elif np.random.rand() < self.PUV_production_prob: #Determines the instance/time to produce vehicles\n",
    "            vehicle_type = 'PUV' \n",
    "            vehicle_length = 1\n",
    "            vehicle_width = 1\n",
    "            current_lane = 0 #pick an initial lane\n",
    "            lane_changing_prob = 0\n",
    "            \n",
    "        return vehicle_type, vehicle_length, vehicle_width, current_lane, lane_changing_prob\n",
    "\n",
    "    def road_checker(self, vehicle_type, vehicle_length, vehicle_width, current_lane, lane_changing_prob):\n",
    "        #Check the availability of the first cells corresponding to vehicle dimensions\n",
    "        road_portion_checked = self.road.road_occupancy[0:vehicle_length, current_lane:current_lane + vehicle_width]\n",
    "        if np.sum(road_portion_checked) == 0:  # Check the availability of the portion corresponding to vehicle dimensions\n",
    "            new_vehicle = Vehicle(0, current_lane, np.random.randint(1, self.road.speed_limit + 1), self.road.speed_limit, vehicle_length, vehicle_width, self.road, vehicle_type, current_lane, 0.3)\n",
    "            self.vehicles.append(new_vehicle)\n",
    "            self.road.road_occupancy[0:new_vehicle.length, current_lane:current_lane + new_vehicle.width] = 1  # Mark the position as occupied\n",
    "\n",
    "    def gap_distance(self, vehicle): \n",
    "        #Determines the distance between the rear bumper of the vehicle ahead and front bumper of the follower vehicle\n",
    "        current_x_position = vehicle.x_position \n",
    "        maximum_possible_distance = self.road.road_length - current_x_position - vehicle.length #DETERMINES THE CORRESPONDING DISTANCE TO BE CHECKED FOR HEADWAY\n",
    "        for distance in range(1, maximum_possible_distance + 1): \n",
    "            next_x_position = current_x_position + vehicle.length + distance #prospective position of the rear bumper of the vehicle\n",
    "            if np.any(self.road.road_occupancy[next_x_position , vehicle.current_lane] == 1): #checking the space \n",
    "                return distance\n",
    "        return maximum_possible_distance\n",
    "\n",
    "    def update(self): \n",
    "        #updates the road configuration based on nagel-schreckenberg rules\n",
    "        vehicle_type, vehicle_length, vehicle_width, current_lane, lane_changing_prob = self.produce_vehicles()\n",
    "        self.road_checker(vehicle_type, vehicle_length, vehicle_width, current_lane, lane_changing_prob)\n",
    "        self.update_occupancy()\n",
    "        for vehicle in self.vehicles:\n",
    "            distance_to_next = self.gap_distance(vehicle)\n",
    "            vehicle.accelerate()\n",
    "            vehicle.decelerate(distance_to_next)\n",
    "            vehicle.randomize(vehicle.braking_prob)\n",
    "            vehicle.x_position += vehicle.speed\n",
    "            vehicle.lane_changing()\n",
    "\n",
    "        self.update_occupancy()\n",
    "\n",
    "    def spatio_temporal_plot(self, num_steps):\n",
    "        road_snapshots = []\n",
    "        for step in range(num_steps):\n",
    "            self.update()\n",
    "            road_snapshots.append(self.road.road_occupancy.copy())\n",
    "\n",
    "        spatio_temporal_matrix = np.stack(road_snapshots)\n",
    "        plt.figure(figsize=(20, 16))\n",
    "        plt.imshow(spatio_temporal_matrix.transpose(1, 0, 2).reshape(self.road.road_width, -1), cmap='Greys', interpolation='nearest', aspect='auto')\n",
    "        plt.xlabel('Space (Position along road)')\n",
    "        plt.ylabel('Time Step')\n",
    "        plt.xticks(range(0, self.road.road_length, 1))\n",
    "        plt.yticks(range(0, num_steps, 1))\n",
    "        plt.title('Spatio-Temporal Plot of Road Occupancy')"
   ]
  },
  {
   "cell_type": "code",
   "execution_count": 57,
   "id": "df0b2982-76b7-48de-962a-a3fa9ea3bebd",
   "metadata": {},
   "outputs": [],
   "source": [
    "road = Road(road_id=1, road_length=10, road_width=3, speed_limit=5)\n",
    "simulator = IntraRoadSimulator(road)"
   ]
  },
  {
   "cell_type": "code",
   "execution_count": 58,
   "id": "7bc8f0ee-d9df-413d-b9ab-80ea4d003612",
   "metadata": {},
   "outputs": [
    {
     "ename": "IndexError",
     "evalue": "index 10 is out of bounds for axis 0 with size 10",
     "output_type": "error",
     "traceback": [
      "\u001b[0;31m---------------------------------------------------------------------------\u001b[0m",
      "\u001b[0;31mIndexError\u001b[0m                                Traceback (most recent call last)",
      "Cell \u001b[0;32mIn[58], line 2\u001b[0m\n\u001b[1;32m      1\u001b[0m num_steps \u001b[38;5;241m=\u001b[39m \u001b[38;5;241m50\u001b[39m\n\u001b[0;32m----> 2\u001b[0m simulator\u001b[38;5;241m.\u001b[39mspatio_temporal_plot(num_steps)\n",
      "Cell \u001b[0;32mIn[56], line 74\u001b[0m, in \u001b[0;36mIntraRoadSimulator.spatio_temporal_plot\u001b[0;34m(self, num_steps)\u001b[0m\n\u001b[1;32m     72\u001b[0m road_snapshots \u001b[38;5;241m=\u001b[39m []\n\u001b[1;32m     73\u001b[0m \u001b[38;5;28;01mfor\u001b[39;00m step \u001b[38;5;129;01min\u001b[39;00m \u001b[38;5;28mrange\u001b[39m(num_steps):\n\u001b[0;32m---> 74\u001b[0m     \u001b[38;5;28mself\u001b[39m\u001b[38;5;241m.\u001b[39mupdate()\n\u001b[1;32m     75\u001b[0m     road_snapshots\u001b[38;5;241m.\u001b[39mappend(\u001b[38;5;28mself\u001b[39m\u001b[38;5;241m.\u001b[39mroad\u001b[38;5;241m.\u001b[39mroad_occupancy\u001b[38;5;241m.\u001b[39mcopy())\n\u001b[1;32m     77\u001b[0m spatio_temporal_matrix \u001b[38;5;241m=\u001b[39m np\u001b[38;5;241m.\u001b[39mstack(road_snapshots)\n",
      "Cell \u001b[0;32mIn[56], line 62\u001b[0m, in \u001b[0;36mIntraRoadSimulator.update\u001b[0;34m(self)\u001b[0m\n\u001b[1;32m     60\u001b[0m \u001b[38;5;28mself\u001b[39m\u001b[38;5;241m.\u001b[39mupdate_occupancy()\n\u001b[1;32m     61\u001b[0m \u001b[38;5;28;01mfor\u001b[39;00m vehicle \u001b[38;5;129;01min\u001b[39;00m \u001b[38;5;28mself\u001b[39m\u001b[38;5;241m.\u001b[39mvehicles:\n\u001b[0;32m---> 62\u001b[0m     distance_to_next \u001b[38;5;241m=\u001b[39m \u001b[38;5;28mself\u001b[39m\u001b[38;5;241m.\u001b[39mgap_distance(vehicle)\n\u001b[1;32m     63\u001b[0m     vehicle\u001b[38;5;241m.\u001b[39maccelerate()\n\u001b[1;32m     64\u001b[0m     vehicle\u001b[38;5;241m.\u001b[39mdecelerate(distance_to_next)\n",
      "Cell \u001b[0;32mIn[56], line 52\u001b[0m, in \u001b[0;36mIntraRoadSimulator.gap_distance\u001b[0;34m(self, vehicle)\u001b[0m\n\u001b[1;32m     50\u001b[0m \u001b[38;5;28;01mfor\u001b[39;00m distance \u001b[38;5;129;01min\u001b[39;00m \u001b[38;5;28mrange\u001b[39m(\u001b[38;5;241m1\u001b[39m, maximum_possible_distance \u001b[38;5;241m+\u001b[39m \u001b[38;5;241m1\u001b[39m): \n\u001b[1;32m     51\u001b[0m     next_x_position \u001b[38;5;241m=\u001b[39m current_x_position \u001b[38;5;241m+\u001b[39m vehicle\u001b[38;5;241m.\u001b[39mlength \u001b[38;5;241m+\u001b[39m distance \u001b[38;5;66;03m#prospective position of the rear bumper of the vehicle\u001b[39;00m\n\u001b[0;32m---> 52\u001b[0m     \u001b[38;5;28;01mif\u001b[39;00m np\u001b[38;5;241m.\u001b[39many(\u001b[38;5;28mself\u001b[39m\u001b[38;5;241m.\u001b[39mroad\u001b[38;5;241m.\u001b[39mroad_occupancy[next_x_position , vehicle\u001b[38;5;241m.\u001b[39mcurrent_lane] \u001b[38;5;241m==\u001b[39m \u001b[38;5;241m1\u001b[39m): \u001b[38;5;66;03m#checking the space \u001b[39;00m\n\u001b[1;32m     53\u001b[0m         \u001b[38;5;28;01mreturn\u001b[39;00m distance\n\u001b[1;32m     54\u001b[0m \u001b[38;5;28;01mreturn\u001b[39;00m maximum_possible_distance\n",
      "\u001b[0;31mIndexError\u001b[0m: index 10 is out of bounds for axis 0 with size 10"
     ]
    }
   ],
   "source": [
    "num_steps = 50\n",
    "simulator.spatio_temporal_plot(num_steps)"
   ]
  },
  {
   "cell_type": "code",
   "execution_count": null,
   "id": "f9249a3f-1d28-495a-be39-fccd5a2419e5",
   "metadata": {},
   "outputs": [],
   "source": []
  }
 ],
 "metadata": {
  "kernelspec": {
   "display_name": "Python 3 (ipykernel)",
   "language": "python",
   "name": "python3"
  },
  "language_info": {
   "codemirror_mode": {
    "name": "ipython",
    "version": 3
   },
   "file_extension": ".py",
   "mimetype": "text/x-python",
   "name": "python",
   "nbconvert_exporter": "python",
   "pygments_lexer": "ipython3",
   "version": "3.11.7"
  }
 },
 "nbformat": 4,
 "nbformat_minor": 5
}
