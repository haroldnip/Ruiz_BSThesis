{
 "cells": [
  {
   "cell_type": "code",
   "execution_count": null,
   "metadata": {},
   "outputs": [],
   "source": [
    "from road import Road\n",
    "from vehicle_sim import IntraRoadSimulator\n",
    "from sidewalk import Sidewalk #Passenger\n",
    "from passenger_sim import Passenger_Simulator\n",
    "from main_sim import IntegratedSimulator"
   ]
  },
  {
   "cell_type": "code",
   "execution_count": null,
   "metadata": {},
   "outputs": [],
   "source": [
    "allowed_rows_input = [\n",
    "    (0, {\"truck\" , \"jeep\"}), # Row 0 allowed for lane changing\n",
    "    (1, {\"truck\" , \"jeep\"}),  \n",
    "    (2, {\"jeep\", \"truck\"})  # Row 2 allowed for lane changing\n",
    "]\n",
    "jeepney_allowed_rows = [2] #allowed rows for initialization\n",
    "truck_allowed_rows = [0, 2]  #allowed rows for initialization\n",
    "safe_stopping_speed = 2\n",
    "safe_deceleration = 2"
   ]
  },
  {
   "cell_type": "code",
   "execution_count": null,
   "metadata": {},
   "outputs": [],
   "source": [
    "# Create the sidewalk and road designations (for both pedestrian and vehicle simulators)\n",
    "sidewalk = Sidewalk(length=50, width=1, max_passengers_per_cell=5)\n",
    "road_designation = Road(length=50, width=4,speed_limit=5, allowed_rows =allowed_rows_input)\n",
    "print(f\"The allowed rows for each vehicle are {road_designation.allowed_rows}\")\n",
    "# Initialize the vehicle simulator (intra-road simulator) with required parameters\n",
    "vehicle_simulator = IntraRoadSimulator(road=road_designation)\n",
    "\n",
    "# Initialize the pedestrian simulator\n",
    "pedestrian_simulator = Passenger_Simulator(\n",
    "    sidewalk = sidewalk,\n",
    "    passenger_arrival_rate =1,  # Arrival rate of passengers per timestep\n",
    "    road_designation=road_designation,\n",
    "    max_passengers_per_cell=5,\n",
    "    vehicle_simulator=vehicle_simulator  # Pass the vehicle simulator to handle interactions\n",
    ")\n",
    "\n",
    "# Now, initialize the integrated simulator with both simulators\n",
    "integrated_simulator = IntegratedSimulator(\n",
    "    vehicle_simulator=vehicle_simulator,\n",
    "    pedestrian_simulator=pedestrian_simulator\n",
    ")"
   ]
  },
  {
   "cell_type": "code",
   "execution_count": null,
   "metadata": {},
   "outputs": [],
   "source": [
    "integrated_simulator.run_simulation(70, 1, 1, 10, 0.2, 0, 1,safe_stopping_speed, safe_deceleration, jeepney_allowed_rows, truck_allowed_rows, visualize=True)\n",
    "#def run_simulation(self, max_timesteps, truck_lane_change_prob, jeep_lane_change_prob, transient_time, density, truck_fraction,stop_to_stop_distance, safe_stopping_speed, safe_deceleration, jeepney_allowed_rows, truck_allowed_rows,visualize=False):"
   ]
  }
 ],
 "metadata": {
  "kernelspec": {
   "display_name": "cx_team",
   "language": "python",
   "name": "python3"
  },
  "language_info": {
   "codemirror_mode": {
    "name": "ipython",
    "version": 3
   },
   "file_extension": ".py",
   "mimetype": "text/x-python",
   "name": "python",
   "nbconvert_exporter": "python",
   "pygments_lexer": "ipython3",
   "version": "3.11.6"
  }
 },
 "nbformat": 4,
 "nbformat_minor": 2
}
