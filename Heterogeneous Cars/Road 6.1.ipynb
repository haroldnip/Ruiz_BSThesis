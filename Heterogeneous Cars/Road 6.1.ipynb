{
 "cells": [
  {
   "cell_type": "code",
   "execution_count": 3,
   "id": "eea38790-4d5d-4b5d-8e94-d1cd39e9a1e2",
   "metadata": {},
   "outputs": [],
   "source": [
    "import numpy as np\n",
    "import matplotlib.pyplot as plt"
   ]
  },
  {
   "cell_type": "code",
   "execution_count": 4,
   "id": "877027ea-0bc0-404d-84b5-3fd8aa3a66b4",
   "metadata": {},
   "outputs": [],
   "source": [
    "class Vehicle:\n",
    "    def __init__(self, position, speed, max_speed, length, width, braking_prob):\n",
    "        self.position = position\n",
    "        self.speed = speed\n",
    "        self.max_speed = max_speed\n",
    "        self.length = length\n",
    "        self.width = width\n",
    "        self.braking_prob = braking_prob\n",
    "\n",
    "    def accelerate(self):\n",
    "        if self.speed < self.max_speed:\n",
    "            self.speed += 1\n",
    "\n",
    "    def decelerate(self, headway_distance):\n",
    "        if self.speed > headway_distance:\n",
    "            self.speed = headway_distance  # reduce speed equivalent to headway distance\n",
    "\n",
    "    def random_brake(self, braking_prob):\n",
    "        if np.random.rand() < braking_prob and self.speed > 0:\n",
    "            self.speed -= 1"
   ]
  },
  {
   "cell_type": "code",
   "execution_count": 7,
   "id": "bc602c56-0e70-4f88-a059-817358a7ade2",
   "metadata": {},
   "outputs": [],
   "source": [
    "class Road:\n",
    "    def __init__(self, length, width, max_speed, production_prob):\n",
    "        self.length = length\n",
    "        self.width = width\n",
    "        self.max_speed = max_speed\n",
    "        self.production_prob = production_prob\n",
    "        self.vehicles = []\n",
    "\n",
    "    def headway_distance(self, the_vehicle):\n",
    "        distance = []\n",
    "        for other_vehicle in self.vehicles:\n",
    "            if other_vehicle.position > the_vehicle.position + the_vehicle.length:\n",
    "                distance.append(other_vehicle.position - (the_vehicle.position + the_vehicle.length))\n",
    "        return min(distance, default=self.length - (the_vehicle.position + the_vehicle.length))\n",
    "    \n",
    "    def produce_vehicles(self, production_prob):\n",
    "        if np.random.rand() < self.production_prob:\n",
    "            vehicle_length = np.random.choice([1, 2, 5, 9])\n",
    "            if vehicle_length == 1:\n",
    "                vehicle_width = 1\n",
    "            else:\n",
    "                vehicle_width = 2\n",
    "            if all(road_portion is None for road_portion in self.vehicles[0:vehicle_length, 0:vehicle_width]):         \n",
    "                new_vehicle = Vehicle(0, np.random.randint(1, self.max_speed + 1), self.max_speed, \n",
    "                                      vehicle_length, vehicle_width, braking_prob=0.1)\n",
    "                self.vehicles.append(new_vehicle)\n",
    "            else:\n",
    "                pass\n",
    "\n",
    "    def remove_vehicles(self):\n",
    "        self.vehicles = [vehicle for vehicle in self.vehicles if vehicle.position != self.length-1]\n",
    "\n",
    "    def update(self):\n",
    "        new_vehicles = []\n",
    "        for vehicle in self.vehicles:\n",
    "            headway = self.headway_distance(vehicle)\n",
    "            vehicle.accelerate()\n",
    "            vehicle.decelerate(headway)\n",
    "            vehicle.random_brake(braking_prob=0.5)\n",
    "            new_position = vehicle.position + vehicle.speed\n",
    "            if new_position < self.length: \n",
    "                vehicle.position = new_position\n",
    "                new_vehicles.append(vehicle)\n",
    "        self.vehicles = new_vehicles\n",
    "        self.produce_vehicles(self.production_prob)\n",
    "        self.remove_vehicles()"
   ]
  },
  {
   "cell_type": "code",
   "execution_count": 8,
   "id": "61232e6d-9c30-47e0-b45b-3dcdfb26296d",
   "metadata": {},
   "outputs": [
    {
     "ename": "NameError",
     "evalue": "name 'vehicle' is not defined",
     "output_type": "error",
     "traceback": [
      "\u001b[0;31m---------------------------------------------------------------------------\u001b[0m",
      "\u001b[0;31mNameError\u001b[0m                                 Traceback (most recent call last)",
      "Cell \u001b[0;32mIn[8], line 30\u001b[0m\n\u001b[1;32m     28\u001b[0m T \u001b[38;5;241m=\u001b[39m \u001b[38;5;241m20\u001b[39m\n\u001b[1;32m     29\u001b[0m road \u001b[38;5;241m=\u001b[39m Road(road_length, road_width, max_speed, production_prob)\n\u001b[0;32m---> 30\u001b[0m \u001b[43mvisualize_road\u001b[49m\u001b[43m(\u001b[49m\u001b[43mroad\u001b[49m\u001b[43m,\u001b[49m\u001b[43m \u001b[49m\u001b[43mT\u001b[49m\u001b[43m)\u001b[49m\n",
      "Cell \u001b[0;32mIn[8], line 8\u001b[0m, in \u001b[0;36mvisualize_road\u001b[0;34m(road, T)\u001b[0m\n\u001b[1;32m      6\u001b[0m road_states \u001b[38;5;241m=\u001b[39m np\u001b[38;5;241m.\u001b[39mzeros((T \u001b[38;5;241m*\u001b[39m road\u001b[38;5;241m.\u001b[39mwidth, road\u001b[38;5;241m.\u001b[39mlength)) \u001b[38;5;66;03m#Generate a 2D array (Timestep*roadwidth, length)\u001b[39;00m\n\u001b[1;32m      7\u001b[0m \u001b[38;5;28;01mfor\u001b[39;00m timestep \u001b[38;5;129;01min\u001b[39;00m \u001b[38;5;28mrange\u001b[39m(T):\n\u001b[0;32m----> 8\u001b[0m     \u001b[43mroad\u001b[49m\u001b[38;5;241;43m.\u001b[39;49m\u001b[43mupdate\u001b[49m\u001b[43m(\u001b[49m\u001b[43m)\u001b[49m \u001b[38;5;66;03m#Updates the road for each timestep\u001b[39;00m\n\u001b[1;32m      9\u001b[0m     \u001b[38;5;28;01mfor\u001b[39;00m vehicle \u001b[38;5;129;01min\u001b[39;00m road\u001b[38;5;241m.\u001b[39mvehicles:\n\u001b[1;32m     10\u001b[0m         \u001b[38;5;28;01mfor\u001b[39;00m j \u001b[38;5;129;01min\u001b[39;00m \u001b[38;5;28mrange\u001b[39m(vehicle\u001b[38;5;241m.\u001b[39mlength):\n",
      "Cell \u001b[0;32mIn[7], line 45\u001b[0m, in \u001b[0;36mRoad.update\u001b[0;34m(self)\u001b[0m\n\u001b[1;32m     43\u001b[0m         new_vehicles\u001b[38;5;241m.\u001b[39mappend(vehicle)\n\u001b[1;32m     44\u001b[0m \u001b[38;5;28mself\u001b[39m\u001b[38;5;241m.\u001b[39mvehicles \u001b[38;5;241m=\u001b[39m new_vehicles\n\u001b[0;32m---> 45\u001b[0m \u001b[38;5;28;43mself\u001b[39;49m\u001b[38;5;241;43m.\u001b[39;49m\u001b[43mproduce_vehicles\u001b[49m\u001b[43m(\u001b[49m\u001b[38;5;28;43mself\u001b[39;49m\u001b[38;5;241;43m.\u001b[39;49m\u001b[43mproduction_prob\u001b[49m\u001b[43m)\u001b[49m\n\u001b[1;32m     46\u001b[0m \u001b[38;5;28mself\u001b[39m\u001b[38;5;241m.\u001b[39mremove_vehicles()\n",
      "Cell \u001b[0;32mIn[7], line 23\u001b[0m, in \u001b[0;36mRoad.produce_vehicles\u001b[0;34m(self, production_prob)\u001b[0m\n\u001b[1;32m     21\u001b[0m \u001b[38;5;28;01melse\u001b[39;00m:\n\u001b[1;32m     22\u001b[0m     vehicle_width \u001b[38;5;241m=\u001b[39m \u001b[38;5;241m2\u001b[39m\n\u001b[0;32m---> 23\u001b[0m \u001b[38;5;28;01mif\u001b[39;00m \u001b[38;5;28mall\u001b[39m(road_portion \u001b[38;5;129;01mis\u001b[39;00m \u001b[38;5;28;01mNone\u001b[39;00m \u001b[38;5;28;01mfor\u001b[39;00m road_portion \u001b[38;5;129;01min\u001b[39;00m \u001b[38;5;28mself\u001b[39m\u001b[38;5;241m.\u001b[39mvehicles[\u001b[38;5;241m0\u001b[39m:\u001b[43mvehicle\u001b[49m\u001b[38;5;241m.\u001b[39mvehicle_length, \u001b[38;5;241m0\u001b[39m:vehicle\u001b[38;5;241m.\u001b[39mvehicle_width]):         \n\u001b[1;32m     24\u001b[0m     new_vehicle \u001b[38;5;241m=\u001b[39m Vehicle(\u001b[38;5;241m0\u001b[39m, np\u001b[38;5;241m.\u001b[39mrandom\u001b[38;5;241m.\u001b[39mrandint(\u001b[38;5;241m1\u001b[39m, \u001b[38;5;28mself\u001b[39m\u001b[38;5;241m.\u001b[39mmax_speed \u001b[38;5;241m+\u001b[39m \u001b[38;5;241m1\u001b[39m), \u001b[38;5;28mself\u001b[39m\u001b[38;5;241m.\u001b[39mmax_speed, \n\u001b[1;32m     25\u001b[0m                           vehicle_length, vehicle_width, braking_prob\u001b[38;5;241m=\u001b[39m\u001b[38;5;241m0.1\u001b[39m)\n\u001b[1;32m     26\u001b[0m     \u001b[38;5;28mself\u001b[39m\u001b[38;5;241m.\u001b[39mvehicles\u001b[38;5;241m.\u001b[39mappend(new_vehicle)\n",
      "\u001b[0;31mNameError\u001b[0m: name 'vehicle' is not defined"
     ]
    }
   ],
   "source": [
    "# Example usage (To be transferred to another notebook)\n",
    "def visualize_road(road, T):\n",
    "    '''This method visualizes road configuration for T timesteps'''\n",
    "    '''Timestep number and row indices are two different things here'''\n",
    "    '''In the array of zeros representing the road, current_row_index = road_width*timestep'''\n",
    "    road_states = np.zeros((T * road.width, road.length)) #Generate a 2D array (Timestep*roadwidth, length)\n",
    "    for timestep in range(T):\n",
    "        road.update() #Updates the road for each timestep\n",
    "        for vehicle in road.vehicles:\n",
    "            for j in range(vehicle.length):\n",
    "                if vehicle.position + j < road.length:\n",
    "                    road_states[timestep * 2:(timestep * 2) + (vehicle.width), vehicle.position + j] = 1                    \n",
    "                    '''Timestep represents the current timestep\n",
    "                    Timestep*2 calculates the starting row index for the current timestep\n",
    "                    (Timestep*2)+ (vehicle.width-1) calculates the ending row index for current timestep'''\n",
    "    plt.imshow(road_states, cmap='binary', aspect='auto', origin='lower')\n",
    "    plt.xticks(range(0, road.length, 2))\n",
    "    plt.yticks(range(0, T * 2, 2), range(1, T + 1))\n",
    "    plt.xlabel('Position')\n",
    "    plt.ylabel('Time Step')\n",
    "    plt.title('Road Visualization')\n",
    "    plt.show()\n",
    "\n",
    "road_length = 25\n",
    "road_width = 2\n",
    "max_speed = 5\n",
    "production_prob = 0.99\n",
    "T = 20\n",
    "road = Road(road_length, road_width, max_speed, production_prob)\n",
    "visualize_road(road, T)"
   ]
  },
  {
   "cell_type": "code",
   "execution_count": null,
   "id": "a6230358-b594-4552-97d5-9e5ddfdf134a",
   "metadata": {},
   "outputs": [],
   "source": []
  },
  {
   "cell_type": "code",
   "execution_count": null,
   "id": "6874626f-fe7d-4627-82b7-3e1d5f215b08",
   "metadata": {},
   "outputs": [],
   "source": []
  }
 ],
 "metadata": {
  "kernelspec": {
   "display_name": "Python 3 (ipykernel)",
   "language": "python",
   "name": "python3"
  },
  "language_info": {
   "codemirror_mode": {
    "name": "ipython",
    "version": 3
   },
   "file_extension": ".py",
   "mimetype": "text/x-python",
   "name": "python",
   "nbconvert_exporter": "python",
   "pygments_lexer": "ipython3",
   "version": "3.11.6"
  }
 },
 "nbformat": 4,
 "nbformat_minor": 5
}
