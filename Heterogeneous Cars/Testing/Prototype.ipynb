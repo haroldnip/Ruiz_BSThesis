{
 "cells": [
  {
   "cell_type": "code",
   "execution_count": 2,
   "id": "fa7a50c9-7a89-4912-bb34-f219416f9cf0",
   "metadata": {},
   "outputs": [],
   "source": [
    "import numpy as np\n",
    "import matplotlib.pyplot as plt"
   ]
  },
  {
   "cell_type": "code",
   "execution_count": 3,
   "id": "3b34265b-0224-4e51-9691-80957497f8fd",
   "metadata": {},
   "outputs": [],
   "source": [
    "L=20\n",
    "W=2\n",
    "road = np.zeros([W, L])"
   ]
  },
  {
   "cell_type": "code",
   "execution_count": 4,
   "id": "833b00f2-1c25-4a77-b496-8044008998e6",
   "metadata": {},
   "outputs": [
    {
     "name": "stdout",
     "output_type": "stream",
     "text": [
      "[[0. 0. 0. 0. 0. 0. 0. 0. 0. 0. 0. 0. 0. 0. 0. 0. 0. 0. 0. 0.]\n",
      " [0. 0. 0. 0. 0. 0. 0. 0. 0. 0. 0. 0. 0. 0. 0. 0. 0. 0. 0. 0.]]\n"
     ]
    }
   ],
   "source": [
    "print(road)"
   ]
  },
  {
   "cell_type": "code",
   "execution_count": 5,
   "id": "29931999-3d56-46e8-b3a5-40c57ac0b775",
   "metadata": {},
   "outputs": [],
   "source": [
    "production_prob=0.9\n",
    "if np.random.rand()<production_prob:\n",
    "    vehicle_length = np.random.choice([1, 2, 5, 9])\n",
    "    if vehicle_length == 1:\n",
    "        vehicle_width = 1\n",
    "    else:\n",
    "        vehicle_width = 2"
   ]
  },
  {
   "cell_type": "code",
   "execution_count": null,
   "id": "a640d974-bf82-4ac8-bb36-bd70d6ccc2d3",
   "metadata": {},
   "outputs": [],
   "source": []
  }
 ],
 "metadata": {
  "kernelspec": {
   "display_name": "Python 3 (ipykernel)",
   "language": "python",
   "name": "python3"
  },
  "language_info": {
   "codemirror_mode": {
    "name": "ipython",
    "version": 3
   },
   "file_extension": ".py",
   "mimetype": "text/x-python",
   "name": "python",
   "nbconvert_exporter": "python",
   "pygments_lexer": "ipython3",
   "version": "3.11.6"
  }
 },
 "nbformat": 4,
 "nbformat_minor": 5
}
