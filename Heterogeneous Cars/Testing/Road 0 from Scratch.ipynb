{
 "cells": [
  {
   "cell_type": "code",
   "execution_count": 11,
   "id": "ce995f51-45bc-466f-a2d1-d305708f0fea",
   "metadata": {},
   "outputs": [],
   "source": [
    "import numpy as np\n",
    "import matplotlib.pyplot as plt"
   ]
  },
  {
   "cell_type": "code",
   "execution_count": 9,
   "id": "58ea82d1-8f39-4680-b8cd-93ca1c06b113",
   "metadata": {},
   "outputs": [],
   "source": [
    "road=np.zeros((road_width, road_length), dtype=int)"
   ]
  },
  {
   "cell_type": "code",
   "execution_count": 16,
   "id": "3948bb6c-d74c-48e5-87b1-17ebce1e8349",
   "metadata": {},
   "outputs": [
    {
     "name": "stdout",
     "output_type": "stream",
     "text": [
      "[[0 0 0 0 0 0 0 0 0 0 0 0 0 0 0 0 0 0 0 0]\n",
      " [0 0 0 0 0 0 0 0 0 0 0 0 0 0 0 0 0 0 0 0]]\n"
     ]
    }
   ],
   "source": [
    "road_length=20\n",
    "road_width=2\n",
    "print(road)\n",
    "production_prob=0.7"
   ]
  },
  {
   "cell_type": "code",
   "execution_count": 17,
   "id": "a2c348f1-53ca-4d41-a788-2e058684feef",
   "metadata": {},
   "outputs": [],
   "source": [
    "#Production of vehicles\n",
    "if np.random.random()<production_prob:\n",
    "    vehicle_length = np.random.choice([1,2,5,9])\n",
    "    if vehicle_length == 1:\n",
    "        vehicle_width=1\n",
    "    else:\n",
    "        vehicle_width=2\n",
    "    if road[0:vehicle_width-1, 0:vehicle_length-1] == 0:\n",
    "        road[0:vehicle_width-1, 0:vehicle_length-1] = 1\n",
    "    else:\n",
    "        pass"
   ]
  },
  {
   "cell_type": "code",
   "execution_count": 18,
   "id": "4f7c0c16-e9fb-48fd-8346-3d1ae0062d65",
   "metadata": {},
   "outputs": [
    {
     "name": "stdout",
     "output_type": "stream",
     "text": [
      "[[0 0 0 0 0 0 0 0 0 0 0 0 0 0 0 0 0 0 0 0]\n",
      " [0 0 0 0 0 0 0 0 0 0 0 0 0 0 0 0 0 0 0 0]]\n"
     ]
    }
   ],
   "source": []
  }
 ],
 "metadata": {
  "kernelspec": {
   "display_name": "Python 3 (ipykernel)",
   "language": "python",
   "name": "python3"
  },
  "language_info": {
   "codemirror_mode": {
    "name": "ipython",
    "version": 3
   },
   "file_extension": ".py",
   "mimetype": "text/x-python",
   "name": "python",
   "nbconvert_exporter": "python",
   "pygments_lexer": "ipython3",
   "version": "3.11.7"
  }
 },
 "nbformat": 4,
 "nbformat_minor": 5
}
