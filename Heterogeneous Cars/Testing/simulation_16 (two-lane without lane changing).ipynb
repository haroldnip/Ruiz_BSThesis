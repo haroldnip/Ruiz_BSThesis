{
 "cells": [
  {
   "cell_type": "code",
   "execution_count": 12,
   "id": "f334096b-b45d-4da8-90c6-a571856355e7",
   "metadata": {},
   "outputs": [],
   "source": [
    "import numpy as np\n",
    "import matplotlib.pyplot as plt\n",
    "import pandas as pd"
   ]
  },
  {
   "cell_type": "markdown",
   "id": "57c4a266-f6c2-4d21-8344-0b9d895f9d79",
   "metadata": {},
   "source": [
    "In this case, we will try two lane roads."
   ]
  },
  {
   "cell_type": "code",
   "execution_count": 5,
   "id": "b52b50c9-3a34-4749-883f-8c0aacfb0eaf",
   "metadata": {},
   "outputs": [],
   "source": [
    "class Vehicle:\n",
    "    def __init__(self, vehicle_id, x_position, y_position, speed, max_speed, braking_prob, length, width):\n",
    "    '''This specified the dimensions and attributes of vehicles. Vehicle identification is also incorporated by assigning IDs'''\n",
    "        self.vehicle_id = vehicle_id #for vehicle identification\n",
    "        self.x_position = x_position #position of the rear bumper\n",
    "        self.y_position = y_position #lane of the right side of the vehicle\n",
    "        self.speed = speed #number of cells the vehicle moves per timestep\n",
    "        self.max_speed = max_speed #maximum speed allowed for a vehicle\n",
    "        self.braking_prob = braking_prob #probability of braking\n",
    "        self.length = length #x dimension of vehicle\n",
    "        self.width = width #y dimension of vehicle\n",
    "\n",
    "    def accelerate(self):\n",
    "    '''Accelerate the vehicle by increments of 1 if maximum speed is not yet attained'''\n",
    "        if self.speed < self.max_speed:\n",
    "            self.speed += 1 \n",
    "\n",
    "    def decelerate(self, gap_distance):\n",
    "        '''Decrease the speed of the vehicle if the gap distance is less than speed'''\n",
    "        if self.speed > gap_distance:\n",
    "            self.speed = gap_distance\n",
    "\n",
    "    def randomize(self, braking_prob):\n",
    "        if np.random.rand() < braking_prob:\n",
    "            if self.speed > 0:\n",
    "                self.speed -= 1"
   ]
  },
  {
   "cell_type": "code",
   "execution_count": 15,
   "id": "bba475bd-825a-48a9-b8ee-fca460b32ca1",
   "metadata": {},
   "outputs": [],
   "source": [
    "class Road_Configuration:\n",
    "    def __init__(self, road_length, road_width, production_prob, max_speed):\n",
    "        '''Road features'''\n",
    "        self.road_length = road_length\n",
    "        self.road_width = road_width \n",
    "        self.production_prob = production_prob #probability of a vehicle appearing on the start of the road\n",
    "        self.max_speed = max_speed\n",
    "        self.road_occupancy = np.zeros((self.road_length, self.road_width), dtype=int) #initialize a state of road occupancy\n",
    "        self.vehicles = [] #initialize an empty list of vehicles\n",
    "        self.vehicle_counter = 0  # To assign unique IDs to vehicles\n",
    "\n",
    "    def update_occupancy(self):\n",
    "        '''Updates the state of occupancy of the road. 0 means unoccupied, 1 means occupied'''\n",
    "        self.road_occupancy.fill(0)  # Reset occupancy grid\n",
    "        for vehicle in self.vehicles:\n",
    "            if vehicle.x_position < self.road_length and vehicle.y_position < self.road_width:  # Only update occupancy if within road length and width\n",
    "                x_start = vehicle.x_position\n",
    "                x_end = min(vehicle.x_position + vehicle.length, self.road_length)\n",
    "                y_start = vehicle.y_position\n",
    "                y_end = min(vehicle.y_position + vehicle.width, self.road_width)\n",
    "                self.road_occupancy[x_start:x_end, y_start:y_end] = 1  # Assuming single-lane for simplicity\n",
    "\n",
    "\n",
    "    def produce_vehicles(self):\n",
    "        '''This method determines the production of new vehicles'''\n",
    "        if np.random.rand() < self.production_prob: #Determines the instance/time to produce vehicles\n",
    "            vehicle_length = np.random.choice([1,2,5]) #vehicle length is selected (1 for motorcycle, 2 for four-wheeled car, 5 for trucks)\n",
    "            if vehicle_length == 1:\n",
    "                vehicle_width = 1 #Motorcycles have a dimension of 1x1\n",
    "            else:\n",
    "                vehicle_width = 2 #other vehicles have a dimension of 2x2, 2x5\n",
    "                \n",
    "            '''Pick a lane for a vehicle produced'''\n",
    "            if vehicle_width == 1: #for motorcycles, the starting y position could either be of the three lanes\n",
    "                initial_lane = np.random.choice([0,1,2,3]) #These correspond to the indices \n",
    "            else:\n",
    "                initial_lane = np.random.choice([0,1,2]) #starting y position for the other vehicles is always at the rightmost lane(all of them have a width of 2)\n",
    "\n",
    "            '''Check the availability of the first cells corresponding to vehicle dimensions'''\n",
    "            road_portion_checked = self.road_occupancy[0:vehicle_length-1, 0:vehicle_width-1]\n",
    "            if np.sum(road_portion_checked) == 0:  # Check the availability of the first cell\n",
    "                new_vehicle = Vehicle(self.vehicle_counter, 0, initial_lane, np.random.randint(1, self.max_speed + 1), self.max_speed, 0.01, vehicle_length, vehicle_width)\n",
    "                self.vehicle_counter += 1\n",
    "                self.vehicles.append(new_vehicle)\n",
    "                self.road_occupancy[0:new_vehicle.length, initial_lane:new_vehicle.width] = 1  # Mark the position as occupied\n",
    "\n",
    "    def gap_distance(self, vehicle): \n",
    "        '''Determines the distance between the rear bumper of the vehicle ahead and front bumper of the follower vehicle '''\n",
    "        current_x_position = vehicle.x_position \n",
    "        maximum_possible_distance = self.road_length - current_x_position - vehicle.length #DETERMINES THE CORRESPONDING DISTANCE TO BE CHECKED FOR HEADWAY\n",
    "        for distance in range(1, maximum_possible_distance): \n",
    "            next_x_position = current_x_position + vehicle.length + distance #prospective position of the rear bumper of the vehicle\n",
    "            if self.road_occupancy[next_x_position:vehicle.length -1, initial_lane:vehicle.width -1] == 1: #checking the space \n",
    "                return distance - 1\n",
    "        return maximum_possible_distance - 1\n",
    "\n",
    "    def update(self): \n",
    "        '''updates the road configuration based on nagel-schreckenberg rules'''\n",
    "        self.update_occupancy()\n",
    "        for vehicle in self.vehicles:\n",
    "            distance_to_next = self.gap_distance(vehicle)\n",
    "            vehicle.accelerate()\n",
    "            vehicle.decelerate(distance_to_next)\n",
    "            vehicle.randomize(vehicle.braking_prob)\n",
    "            vehicle.x_position += vehicle.speed\n",
    "\n",
    "        self.update_occupancy()"
   ]
  },
  {
   "cell_type": "markdown",
   "id": "e9f1ede1-5da0-4c62-9b2a-af2a0212a151",
   "metadata": {},
   "source": [
    "Let's test the simulation of freeway traffic"
   ]
  },
  {
   "cell_type": "code",
   "execution_count": 14,
   "id": "b3e7815e-755e-44ba-9a6a-9d31b9761cd3",
   "metadata": {},
   "outputs": [
    {
     "name": "stdout",
     "output_type": "stream",
     "text": [
      "<__main__.Road_Configuration object at 0x123f2fd10>\n"
     ]
    }
   ],
   "source": []
  },
  {
   "cell_type": "markdown",
   "id": "6d573806-7b62-4591-874a-af1bdd37c2c0",
   "metadata": {},
   "source": [
    "Here, I am trying to simulate an intersection. One road before the intersection, and one road after it. "
   ]
  },
  {
   "cell_type": "code",
   "execution_count": 8,
   "id": "b0efa8eb-b182-4f2f-808a-a89cb1db2a4f",
   "metadata": {},
   "outputs": [],
   "source": [
    "class Intersection_Organizer: # In this simulation, I am excluding data extraction from the simulation\n",
    "    def __init__(self, roads):\n",
    "        self.roads = roads\n",
    "        self.occupancy_history = []\n",
    "\n",
    "    def transfer_vehicle(self, vehicle, destination_road):\n",
    "        vehicle.x_position = 0 #Reset position to the beginning of the road\n",
    "        destination_road.vehicles.append(vehicle)\n",
    "        destination_road.update_occupancy()\n",
    "\n",
    "    def update_intersection(self):\n",
    "        #Define the roads before the intersection, the node road, and the roads after the intersection\n",
    "        road_before_intersection = self.roads[0]\n",
    "        node_road = self.roads[1]\n",
    "        road_after_intersection = self.roads[2]\n",
    "\n",
    "        #The road before the intersection produces vehicles on its beginning\n",
    "        road_before_intersection.produce_vehicles()\n",
    "\n",
    "        #Update all roads\n",
    "        for road in self.roads:\n",
    "            road.update()\n",
    "\n",
    "        #Transfer vehicles to the intersection\n",
    "        vehicles_to_transfer = [vehicle for vehicle in road_before_intersection.vehicles if vehicle.x_position >=road_before_intersection.road_length]\n",
    "        for vehicle in vehicles_to_transfer:\n",
    "            self.transfer_vehicle(vehicle, node_road)\n",
    "        road_before_intersection.vehicles = [vehicle for vehicle in road_before_intersection.vehicles if vehicle.x_position < road_before_intersection.road_length]\n",
    "\n",
    "        #Transfer vehicles from the intersection to the road after the intersection\n",
    "        for vehicle in node_road.vehicles[:]:\n",
    "            if vehicle.x_position >= node_road.road_length:\n",
    "                if vehicle.width == 1: #for motorcycles, the starting y position could either be of the two lanes\n",
    "                    initial_lane = np.random.choice([0,1,2,3])\n",
    "                else:\n",
    "                    initial_lane = np.random.choice([0,1,2]) #starting y position for the other vehicles is always at the rightmost lane(all of them have a width of 2)\n",
    "                if np.sum(road_after_intersection.road_occupancy[0:vehicle.length, initial_lane:vehicle.width]) == 0: #Check the availability of cells corresponding to vehicle dimensions\n",
    "                    self.transfer_vehicle(vehicle, road_after_intersection)\n",
    "                    node_road.vehicles = [vehicle for vehicle in node_road.vehicles if vehicle.vehicle_id != vehicle.vehicle_id]\n",
    "\n",
    "\n",
    "        self.occupancy_history.append([road.road_occupancy.copy() for road in self.roads])\n",
    "\n",
    "    def save_occupancy_to_csv(self, filename):\n",
    "        data = []\n",
    "        for timestep, occupancy in enumerate(self.occupancy_history):\n",
    "            for road_id, road_occupancy in enumerate(occupancy):\n",
    "                flattened_occupancy = road_occupancy.flatten()\n",
    "                row = [timestep, road_id] + flattened_occupancy.tolist()\n",
    "                data.append(row)\n",
    "        columns = ['timestep', 'road_id'] + [f'cell_{i}' for i in range(len(data[0]) - 2)]\n",
    "        df = pd.DataFrame(data, columns=columns)\n",
    "        df.to_csv(filename, index=False)"
   ]
  },
  {
   "cell_type": "code",
   "execution_count": 11,
   "id": "ec79f175-3869-446e-a4d1-9ede9d62e5d5",
   "metadata": {},
   "outputs": [
    {
     "name": "stderr",
     "output_type": "stream",
     "text": [
      "/var/folders/1b/rvq72jyx21xbh_2785wj4dwh0000gn/T/ipykernel_51812/1131413958.py:49: DeprecationWarning: The truth value of an empty array is ambiguous. Returning False, but in future this will result in an error. Use `array.size > 0` to check that an array is not empty.\n",
      "  if self.road_occupancy[next_x_position:vehicle.length -1, 0:vehicle.width -1] == 1: #June 26, 2024, 5:02 PM (continue here)\n"
     ]
    },
    {
     "ename": "NameError",
     "evalue": "name 'pd' is not defined",
     "output_type": "error",
     "traceback": [
      "\u001b[0;31m---------------------------------------------------------------------------\u001b[0m",
      "\u001b[0;31mNameError\u001b[0m                                 Traceback (most recent call last)",
      "Cell \u001b[0;32mIn[11], line 13\u001b[0m\n\u001b[1;32m     11\u001b[0m \u001b[38;5;66;03m# Save occupancy history to CSV\u001b[39;00m\n\u001b[1;32m     12\u001b[0m csv_filename \u001b[38;5;241m=\u001b[39m \u001b[38;5;124m'\u001b[39m\u001b[38;5;124moccupancy_history.csv\u001b[39m\u001b[38;5;124m'\u001b[39m\n\u001b[0;32m---> 13\u001b[0m traffic_system\u001b[38;5;241m.\u001b[39msave_occupancy_to_csv(csv_filename)\n",
      "Cell \u001b[0;32mIn[8], line 52\u001b[0m, in \u001b[0;36mIntersection_Organizer.save_occupancy_to_csv\u001b[0;34m(self, filename)\u001b[0m\n\u001b[1;32m     50\u001b[0m         data\u001b[38;5;241m.\u001b[39mappend(row)\n\u001b[1;32m     51\u001b[0m columns \u001b[38;5;241m=\u001b[39m [\u001b[38;5;124m'\u001b[39m\u001b[38;5;124mtimestep\u001b[39m\u001b[38;5;124m'\u001b[39m, \u001b[38;5;124m'\u001b[39m\u001b[38;5;124mroad_id\u001b[39m\u001b[38;5;124m'\u001b[39m] \u001b[38;5;241m+\u001b[39m [\u001b[38;5;124mf\u001b[39m\u001b[38;5;124m'\u001b[39m\u001b[38;5;124mcell_\u001b[39m\u001b[38;5;132;01m{\u001b[39;00mi\u001b[38;5;132;01m}\u001b[39;00m\u001b[38;5;124m'\u001b[39m \u001b[38;5;28;01mfor\u001b[39;00m i \u001b[38;5;129;01min\u001b[39;00m \u001b[38;5;28mrange\u001b[39m(\u001b[38;5;28mlen\u001b[39m(data[\u001b[38;5;241m0\u001b[39m]) \u001b[38;5;241m-\u001b[39m \u001b[38;5;241m2\u001b[39m)]\n\u001b[0;32m---> 52\u001b[0m df \u001b[38;5;241m=\u001b[39m pd\u001b[38;5;241m.\u001b[39mDataFrame(data, columns\u001b[38;5;241m=\u001b[39mcolumns)\n\u001b[1;32m     53\u001b[0m df\u001b[38;5;241m.\u001b[39mto_csv(filename, index\u001b[38;5;241m=\u001b[39m\u001b[38;5;28;01mFalse\u001b[39;00m)\n",
      "\u001b[0;31mNameError\u001b[0m: name 'pd' is not defined"
     ]
    }
   ],
   "source": [
    "# Example usage with the new road configuration\n",
    "road1 = Road_Configuration(road_length=50, road_width=1, production_prob=0.9, max_speed=5)  # Road before intersection\n",
    "node_road = Road_Configuration(road_length=5, road_width=1, production_prob=0.0, max_speed=5)  # Intersection road\n",
    "road3 = Road_Configuration(road_length=50, road_width=1, production_prob=0.0, max_speed=5)  # Road after intersection\n",
    "\n",
    "traffic_system = Intersection_Organizer(roads=[road1, node_road, road3])\n",
    "\n",
    "for _ in range(1000):  # Simulate 1000 time steps\n",
    "    traffic_system.update_intersection()\n",
    "\n",
    "# Save occupancy history to CSV\n",
    "csv_filename = 'occupancy_history.csv'\n",
    "traffic_system.save_occupancy_to_csv(csv_filename)"
   ]
  },
  {
   "cell_type": "code",
   "execution_count": null,
   "id": "e3f48bf6-09b2-4e71-8d2d-cd7e019f07f7",
   "metadata": {},
   "outputs": [],
   "source": []
  },
  {
   "cell_type": "code",
   "execution_count": null,
   "id": "a8370b12-2c83-4cdc-a788-34d2ad3c09c3",
   "metadata": {},
   "outputs": [],
   "source": []
  }
 ],
 "metadata": {
  "kernelspec": {
   "display_name": "Python 3 (ipykernel)",
   "language": "python",
   "name": "python3"
  },
  "language_info": {
   "codemirror_mode": {
    "name": "ipython",
    "version": 3
   },
   "file_extension": ".py",
   "mimetype": "text/x-python",
   "name": "python",
   "nbconvert_exporter": "python",
   "pygments_lexer": "ipython3",
   "version": "3.11.7"
  }
 },
 "nbformat": 4,
 "nbformat_minor": 5
}
