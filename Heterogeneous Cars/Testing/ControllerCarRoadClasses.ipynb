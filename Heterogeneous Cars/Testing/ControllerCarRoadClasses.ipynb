{
 "cells": [
  {
   "cell_type": "code",
   "execution_count": 135,
   "id": "7d30a68a-35e9-4ba2-80e9-590637ad0a7b",
   "metadata": {},
   "outputs": [],
   "source": [
    "import numpy as np\n",
    "import matplotlib.pyplot as plt"
   ]
  },
  {
   "cell_type": "code",
   "execution_count": 136,
   "id": "1087a092-a82e-4a8e-b910-ee6af8f79e39",
   "metadata": {},
   "outputs": [],
   "source": [
    "#Here I aim to take count of the sizes of cars"
   ]
  },
  {
   "cell_type": "code",
   "execution_count": 137,
   "id": "47b06f78-fe1f-438a-b3cb-0db377320ede",
   "metadata": {},
   "outputs": [],
   "source": [
    "class Car:\n",
    "    def __init__(self, position, speed, max_speed, length, width, randomization):\n",
    "        self.position=position\n",
    "        self.speed=speed\n",
    "        self.max_speed=max_speed\n",
    "        self.length=length\n",
    "        self.width=width #Trying to incorporate width???\n",
    "        self.production_prob=production_prob\n",
    "        self.randomization=randomization\n",
    "        self.headway_distance = None\n",
    "\n",
    "    def headway_distance(self, car):\n",
    "        next_car_position=min((v.position for v in self.cars[car.position+1:car.position+10] if v.position>car.position), default=self.length)\n",
    "        return next_car_position-car.position-1\n",
    "\n",
    "    def accelerate(self):\n",
    "        if self.speed<self.max_speed:\n",
    "            self.speed+=1\n",
    "\n",
    "    def decelerate(self, headway_distance):\n",
    "        if self.speed>headway_distance:\n",
    "            self.speed=headway_distance # reduce speed equivalent only to headway distance\n",
    "\n",
    "    def random_brake(self, randomization):\n",
    "        if np.random.random()<randomization and self.speed>0:\n",
    "            self.speed-=1"
   ]
  },
  {
   "cell_type": "code",
   "execution_count": 141,
   "id": "e45e6fbe-5bdd-46b1-a59b-02b8adf7f324",
   "metadata": {},
   "outputs": [],
   "source": [
    "class Road:\n",
    "    def __init__(self, length, width, max_speed, production_prob):\n",
    "        self.length=length #length of the road\n",
    "        self.width = width\n",
    "        self.max_speed=max_speed #speed limit of the road\n",
    "        self.production_prob=production_prob\n",
    "        self.cars=[] #empty array to denote empty road configuration at the start\n",
    "\n",
    "    #def headway_distance(self, cars):\n",
    "        #Revise this in a way that you don't have to check for all the vehicles ahead\n",
    "        #for i in range(1, max_distance+1) :\n",
    "         #   next_car_position = car.position + i\n",
    "         #   if next_position>=self.length:\n",
    "         #       return None #reaced road's end w/o encountering a car\n",
    "         #   if any(next_position == c.position for c in self.cars):\n",
    "         #       return i #return headway distance and the ecnountered car\n",
    "        #return None\n",
    "        \n",
    "        #next_car_position=min((v.position for v in self.cars[car.position+1:car.position+10] if v.position>car.position and v.position!=0), default=self.length)\n",
    "        #return next_car_position-car.position-1\n",
    "\n",
    "        #next_car_position=min((v.position for v in self.cars[car.position+1:car.position+10] if v.position>car.position), default=self.length)\n",
    "        #return next_car_position-car.position-1\n",
    "\n",
    "    \n",
    "    def remove_cars(self):\n",
    "        self.cars = [car for car in self.cars if car.position!= self.length-1]\n",
    "    \n",
    "    def update(self):\n",
    "        new_cars=[] #road configuration for storing state of cars, replaces self.cars after update\n",
    "        for car in self.cars: #iterates over each car in self.cars list\n",
    "            car.headway_distance(self.cars)#implements calculation of headway distance\n",
    "            car.accelerate() #calls the accelerate method of the car to increase its speed\n",
    "            car.decelerate() #calls the decelerate method of the car with input headway distance, which may reduce car speed based on headway distance\n",
    "            new_position=car.position+car.speed #Forward Movement\n",
    "            if new_position<self.length-1: #Check if the car will not reach the end\n",
    "                car.position=new_position\n",
    "                new_cars.append(car)\n",
    "        self.cars=new_cars\n",
    "    \n",
    "        randomization = 0.3\n",
    "        #Produce new cars\n",
    "        if np.random.rand()<self.production_prob:\n",
    "            length= np.random.choice([1,2,5,9])\n",
    "            if length==1:\n",
    "                car_width=1\n",
    "            else:\n",
    "                car_width=2\n",
    "                new_car=Car(0, np.random.randint(1, self.max_speed+1), self.max_speed, length, car_width, randomization)\n",
    "                self.cars.append(new_car)    \n",
    "        self.remove_cars()\n",
    "\n",
    "    def visualize(self):\n",
    "        road_state=np.zeros((self.length, 2), dtype=int) #Generates zeroz representing empty road configuration\n",
    "        for car in self.cars:\n",
    "            for i in range(car.width):\n",
    "                road_state[car.position: car.position + car.length, i]=1 #Assigns value of 1 for occupied positions, part na shaded\n",
    "        #Should I use + or - ????\n",
    "        plt.imshow(road_state.reshape(1,-1), cmap=\"binary\", aspect=\"auto\")\n",
    "        #plt.xticks(range(self.length))\n",
    "        #plt.yticks([])\n",
    "        plt.title(\"Spatio-Temporal Road at TImestep {Timestep} (Produce-Evaporate)\")\n",
    "        plt.xlabel(\"Position\")\n",
    "        plt.ylabel(\"Time\")\n",
    "        plt.show()"
   ]
  },
  {
   "cell_type": "code",
   "execution_count": 142,
   "id": "f25bc652-e38f-4c4b-a6b7-1613381ed577",
   "metadata": {},
   "outputs": [],
   "source": [
    "#Example Use\n",
    "length=30\n",
    "max_speed=5\n",
    "production_prob = 0.8\n",
    "width=2\n",
    "road = Road(length, width, max_speed, production_prob)"
   ]
  },
  {
   "cell_type": "code",
   "execution_count": 143,
   "id": "ff48ab78-95f0-42fd-8383-2ebee7f1147c",
   "metadata": {},
   "outputs": [
    {
     "name": "stdout",
     "output_type": "stream",
     "text": [
      "Time step: 1\n"
     ]
    },
    {
     "data": {
      "image/png": "[encoded data removed]",
      "text/plain": [
       "<Figure size 640x480 with 1 Axes>"
      ]
     },
     "metadata": {},
     "output_type": "display_data"
    },
    {
     "name": "stdout",
     "output_type": "stream",
     "text": [
      "Cars:\n",
      "Position: 0, Speed: 4, Length:5\n",
      "\n",
      "Time step: 2\n"
     ]
    },
    {
     "data": {
      "image/png": "[encoded data removed]",
      "text/plain": [
       "<Figure size 640x480 with 1 Axes>"
      ]
     },
     "metadata": {},
     "output_type": "display_data"
    },
    {
     "ename": "TypeError",
     "evalue": "'NoneType' object is not callable",
     "output_type": "error",
     "traceback": [
      "\u001b[0;31m---------------------------------------------------------------------------\u001b[0m",
      "\u001b[0;31mTypeError\u001b[0m                                 Traceback (most recent call last)",
      "Cell \u001b[0;32mIn[143], line 6\u001b[0m\n\u001b[1;32m      4\u001b[0m \u001b[38;5;28mprint\u001b[39m(\u001b[38;5;124m\"\u001b[39m\u001b[38;5;124mTime step:\u001b[39m\u001b[38;5;124m\"\u001b[39m, i\u001b[38;5;241m+\u001b[39m\u001b[38;5;241m1\u001b[39m)\n\u001b[1;32m      5\u001b[0m road\u001b[38;5;241m.\u001b[39mvisualize()\n\u001b[0;32m----> 6\u001b[0m \u001b[43mroad\u001b[49m\u001b[38;5;241;43m.\u001b[39;49m\u001b[43mupdate\u001b[49m\u001b[43m(\u001b[49m\u001b[43m)\u001b[49m\n\u001b[1;32m      8\u001b[0m \u001b[38;5;66;03m#Access information of each vehicle\u001b[39;00m\n\u001b[1;32m      9\u001b[0m \u001b[38;5;28mprint\u001b[39m(\u001b[38;5;124m\"\u001b[39m\u001b[38;5;124mCars:\u001b[39m\u001b[38;5;124m\"\u001b[39m)\n",
      "Cell \u001b[0;32mIn[141], line 32\u001b[0m, in \u001b[0;36mRoad.update\u001b[0;34m(self)\u001b[0m\n\u001b[1;32m     30\u001b[0m new_cars\u001b[38;5;241m=\u001b[39m[] \u001b[38;5;66;03m#road configuration for storing state of cars, replaces self.cars after update\u001b[39;00m\n\u001b[1;32m     31\u001b[0m \u001b[38;5;28;01mfor\u001b[39;00m car \u001b[38;5;129;01min\u001b[39;00m \u001b[38;5;28mself\u001b[39m\u001b[38;5;241m.\u001b[39mcars: \u001b[38;5;66;03m#iterates over each car in self.cars list\u001b[39;00m\n\u001b[0;32m---> 32\u001b[0m     \u001b[43mcar\u001b[49m\u001b[38;5;241;43m.\u001b[39;49m\u001b[43mheadway_distance\u001b[49m\u001b[43m(\u001b[49m\u001b[38;5;28;43mself\u001b[39;49m\u001b[38;5;241;43m.\u001b[39;49m\u001b[43mcars\u001b[49m\u001b[43m)\u001b[49m\u001b[38;5;66;03m#implements calculation of headway distance\u001b[39;00m\n\u001b[1;32m     33\u001b[0m     car\u001b[38;5;241m.\u001b[39maccelerate() \u001b[38;5;66;03m#calls the accelerate method of the car to increase its speed\u001b[39;00m\n\u001b[1;32m     34\u001b[0m     car\u001b[38;5;241m.\u001b[39mdecelerate() \u001b[38;5;66;03m#calls the decelerate method of the car with input headway distance, which may reduce car speed based on headway distance\u001b[39;00m\n",
      "\u001b[0;31mTypeError\u001b[0m: 'NoneType' object is not callable"
     ]
    }
   ],
   "source": [
    "#Iterate over N timesteps\n",
    "N=30\n",
    "for i in range(N):\n",
    "    print(\"Time step:\", i+1)\n",
    "    road.visualize()\n",
    "    road.update()\n",
    "\n",
    "    #Access information of each vehicle\n",
    "    print(\"Cars:\")\n",
    "    for car in road.cars:\n",
    "        print(f\"Position: {car.position}, Speed: {car.speed}, Length:{car.length}\")\n",
    "\n",
    "    print()"
   ]
  },
  {
   "cell_type": "code",
   "execution_count": 4,
   "id": "7257a263-0349-4036-8b28-7cb30f821a4b",
   "metadata": {},
   "outputs": [
    {
     "name": "stdout",
     "output_type": "stream",
     "text": [
      "Time step: 1\n"
     ]
    },
    {
     "ename": "AttributeError",
     "evalue": "'Road' object has no attribute 'visualize'",
     "output_type": "error",
     "traceback": [
      "\u001b[0;31m---------------------------------------------------------------------------\u001b[0m",
      "\u001b[0;31mAttributeError\u001b[0m                            Traceback (most recent call last)",
      "Cell \u001b[0;32mIn[4], line 95\u001b[0m\n\u001b[1;32m     93\u001b[0m road \u001b[38;5;241m=\u001b[39m Road(length\u001b[38;5;241m=\u001b[39m\u001b[38;5;241m100\u001b[39m, max_speed\u001b[38;5;241m=\u001b[39m\u001b[38;5;241m5\u001b[39m, production_prob\u001b[38;5;241m=\u001b[39m\u001b[38;5;241m0.3\u001b[39m)\n\u001b[1;32m     94\u001b[0m controller \u001b[38;5;241m=\u001b[39m Controller(road, steps\u001b[38;5;241m=\u001b[39m\u001b[38;5;241m30\u001b[39m)\n\u001b[0;32m---> 95\u001b[0m \u001b[43mcontroller\u001b[49m\u001b[38;5;241;43m.\u001b[39;49m\u001b[43msimulate\u001b[49m\u001b[43m(\u001b[49m\u001b[43m)\u001b[49m\n",
      "Cell \u001b[0;32mIn[4], line 70\u001b[0m, in \u001b[0;36mController.simulate\u001b[0;34m(self)\u001b[0m\n\u001b[1;32m     68\u001b[0m \u001b[38;5;28;01mfor\u001b[39;00m i \u001b[38;5;129;01min\u001b[39;00m \u001b[38;5;28mrange\u001b[39m(\u001b[38;5;28mself\u001b[39m\u001b[38;5;241m.\u001b[39msteps):\n\u001b[1;32m     69\u001b[0m     \u001b[38;5;28mprint\u001b[39m(\u001b[38;5;124m\"\u001b[39m\u001b[38;5;124mTime step:\u001b[39m\u001b[38;5;124m\"\u001b[39m, i \u001b[38;5;241m+\u001b[39m \u001b[38;5;241m1\u001b[39m)\n\u001b[0;32m---> 70\u001b[0m     \u001b[38;5;28;43mself\u001b[39;49m\u001b[38;5;241;43m.\u001b[39;49m\u001b[43mroad\u001b[49m\u001b[38;5;241;43m.\u001b[39;49m\u001b[43mvisualize\u001b[49m()\n\u001b[1;32m     71\u001b[0m     \u001b[38;5;28mself\u001b[39m\u001b[38;5;241m.\u001b[39mroad\u001b[38;5;241m.\u001b[39mupdate()\n\u001b[1;32m     73\u001b[0m     \u001b[38;5;66;03m# Access information of each vehicle\u001b[39;00m\n",
      "\u001b[0;31mAttributeError\u001b[0m: 'Road' object has no attribute 'visualize'"
     ]
    }
   ],
   "source": [
    "import numpy as np\n",
    "import matplotlib.pyplot as plt\n",
    "\n",
    "class Car:\n",
    "    def __init__(self, position, speed, max_speed, length, width, randomization):\n",
    "        self.position = position\n",
    "        self.speed = speed\n",
    "        self.max_speed = max_speed\n",
    "        self.length = length\n",
    "        self.width = width\n",
    "        self.randomization = randomization\n",
    "        self.headway_distance = None  # Initialize headway distance as None\n",
    "\n",
    "    def calculate_headway_distance(self, cars):\n",
    "        # Calculate headway distance based on positions of other cars\n",
    "        next_car_position = min((v.position for v in cars if v.position > self.position), default=np.inf)\n",
    "        self.headway_distance = next_car_position - self.position - 1 if next_car_position != np.inf else np.inf\n",
    "\n",
    "    def accelerate(self):\n",
    "        if self.speed < self.max_speed:\n",
    "            self.speed += 1\n",
    "\n",
    "    def decelerate(self):\n",
    "        if self.speed > self.headway_distance:\n",
    "            self.speed = self.headway_distance  # reduce speed equivalent only to headway distance\n",
    "\n",
    "    def random_brake(self):\n",
    "        if np.random.random() < self.randomization and self.speed > 0:\n",
    "            self.speed -= 1\n",
    "\n",
    "class Road:\n",
    "    def __init__(self, length, max_speed, production_prob):\n",
    "        self.length = length  # length of the road\n",
    "        self.max_speed = max_speed  # speed limit of the road\n",
    "        self.production_prob = production_prob\n",
    "        self.cars = []  # empty array to denote empty road configuration at the start\n",
    "\n",
    "    def add_car(self, car):\n",
    "        self.cars.append(car)\n",
    "\n",
    "    def remove_cars(self):\n",
    "        self.cars = [car for car in self.cars if car.position != self.length - 1]\n",
    "\n",
    "    def update(self):\n",
    "        for car in self.cars:\n",
    "            car.calculate_headway_distance(self.cars)  # Calculate headway distance for each car\n",
    "            car.accelerate()\n",
    "            car.decelerate()\n",
    "            car.position += car.speed  # Forward Movement\n",
    "        self.remove_cars()\n",
    "\n",
    "        # Produce new cars\n",
    "        if np.random.rand() < self.production_prob:\n",
    "            length = np.random.choice([1, 2, 5, 9])\n",
    "            if length == 1:\n",
    "                car_width = 1\n",
    "            else:\n",
    "                car_width = 2\n",
    "            new_car = Car(0, np.random.randint(1, self.max_speed + 1), self.max_speed, length, car_width, 0.3)\n",
    "            self.add_car(new_car)\n",
    "\n",
    "class Controller:\n",
    "    def __init__(self, road, steps):\n",
    "        self.road = road\n",
    "        self.steps = steps\n",
    "\n",
    "    def simulate(self):\n",
    "        for i in range(self.steps):\n",
    "            print(\"Time step:\", i + 1)\n",
    "            self.road.visualize()\n",
    "            self.road.update()\n",
    "\n",
    "            # Access information of each vehicle\n",
    "            print(\"Cars:\")\n",
    "            for car in self.road.cars:\n",
    "                print(f\"Position: {car.position}, Speed: {car.speed}, Length: {car.length}\")\n",
    "\n",
    "            print()\n",
    "\n",
    "    def visualize(self):\n",
    "        road_state = np.zeros((self.road.length, 2), dtype=int)  # Generates zeros representing empty road configuration\n",
    "        for car in self.road.cars:\n",
    "            for i in range(car.width):\n",
    "                road_state[car.position: car.position + car.length, i] = 1  # Assigns value of 1 for occupied positions\n",
    "\n",
    "        plt.imshow(road_state.reshape(1, -1), cmap=\"binary\", aspect=\"auto\")\n",
    "        plt.title(\"Spatio-Temporal Road\")\n",
    "        plt.xlabel(\"Position\")\n",
    "        plt.ylabel(\"Time\")\n",
    "        plt.show()\n",
    "\n",
    "# Example usage\n",
    "road = Road(length=100, max_speed=5, production_prob=0.3)\n",
    "controller = Controller(road, steps=30)\n",
    "controller.simulate()"
   ]
  },
  {
   "cell_type": "code",
   "execution_count": null,
   "id": "b90b1292-1704-42dc-a7dd-0bce1c57a438",
   "metadata": {},
   "outputs": [],
   "source": []
  }
 ],
 "metadata": {
  "kernelspec": {
   "display_name": "Python 3 (ipykernel)",
   "language": "python",
   "name": "python3"
  },
  "language_info": {
   "codemirror_mode": {
    "name": "ipython",
    "version": 3
   },
   "file_extension": ".py",
   "mimetype": "text/x-python",
   "name": "python",
   "nbconvert_exporter": "python",
   "pygments_lexer": "ipython3",
   "version": "3.11.6"
  }
 },
 "nbformat": 4,
 "nbformat_minor": 5
}
