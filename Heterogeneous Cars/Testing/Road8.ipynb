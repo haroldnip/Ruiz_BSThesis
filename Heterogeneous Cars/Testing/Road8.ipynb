{
 "cells": [
  {
   "cell_type": "code",
   "execution_count": 42,
   "id": "dc63b26f-1fe7-46b6-9451-e652d5ce60d2",
   "metadata": {},
   "outputs": [],
   "source": [
    "import numpy as np\n",
    "import matplotlib.pyplot as plt"
   ]
  },
  {
   "cell_type": "code",
   "execution_count": null,
   "id": "92baaf7f-8226-4bd6-afd8-c9292f8be7b7",
   "metadata": {},
   "outputs": [],
   "source": [
    "'''This object details the dynamics of a an agent(vehicle) in the simulation'''\n",
    "class Vehicle:\n",
    "    def __init__(self, position, speed, max_speed, vehicle_length, vehicle_width, braking_prob):\n",
    "        '''attributes of the vehicle'''\n",
    "        self.position = position #position of the vehicle\n",
    "        self.speed = speed #speed of the vehicle\n",
    "        self.max_speed = max_speed #maximum speed of the vehicle\n",
    "        self.vehicle_length = vehicle_length \n",
    "        self.vehicle_width = vehicle_width\n",
    "        self.braking_prob = braking_prob\n",
    "\n",
    "    def accelerate(self):\n",
    "        if self.speed < self.max_speed:\n",
    "            self.speed += 1\n",
    "\n",
    "    def decelerate(self, headway_distance):\n",
    "        if self.speed > headway_distance:\n",
    "            self.speed = headway_distance #reduce speed equivalent to headay distance\n",
    "\n",
    "    def random_brake(self):\n",
    "        if np.random.rand() < self.braking_prob and self.speed > 0:\n",
    "            self.speed -= 1"
   ]
  },
  {
   "cell_type": "code",
   "execution_count": 51,
   "id": "d85afd5a-7c7c-448a-ba2e-468957946be8",
   "metadata": {},
   "outputs": [],
   "source": [
    "class Road:\n",
    "    def __init__(self, length, width):\n",
    "        self.length = length\n",
    "        self.width = width\n",
    "        self.road_state = np.zeros((self.length, self.width), dtype=int)\n",
    "\n",
    "    def update_road_state(self, new_state):\n",
    "        self.road_state = new_state\n",
    "\n",
    "    def get_road_state(self):\n",
    "        return self.road_state"
   ]
  },
  {
   "cell_type": "code",
   "execution_count": 56,
   "id": "111de859-ace3-4181-b2ca-8cd8c6602545",
   "metadata": {},
   "outputs": [],
   "source": [
    "class Controller:\n",
    "    def __init__(self, road, production_prob, max_speed, braking_prob):\n",
    "        self.road = road\n",
    "        self.production_prob = production_prob\n",
    "        self.max_speed = max_speed\n",
    "        self.braking_prob = braking_prob\n",
    "        #self.vehicles = [] #array of vehicles\n",
    "\n",
    "    def produce_vehicles(self):\n",
    "        '''This method aims to determine when to produce vehicles. If it's time to produce,\n",
    "        vehicle dimensions are chosen. \n",
    "        1x1 for Motocycle, 2x2 for Car, 5x2 for small trucks, 9x2 for long trucks'''\n",
    "        if np.random.rand() < self.production_prob:\n",
    "            vehicle_length = np.random.choice([1, 2, 5, 9]) \n",
    "            if vehicle_length == 1:\n",
    "                vehicle_width = 1\n",
    "            else:\n",
    "                vehicle_width = 2\n",
    "            if np.sum(self.road.road_state[0:vehicle_length, 0:vehicle_width]) == 0: #Checks if the beginning of the road is available for the vehicle\n",
    "                new_vehicle = Vehicle(0, np.random.randint(1, self.max_speed + 1), self.max_speed, vehicle_length, vehicle_width, self.braking_prob==0.1)\n",
    "                return new_vehicle\n",
    "                #self.vehicles.append((i, j, new_vehicle))\n",
    "                #self.road.road_state[0:new_vehicle.vehicle_length, 0:new_vehicle.vehicle_width] = 1\n",
    "        return None\n",
    "\n",
    "    def move_vehicles(self, vehicle):\n",
    "        vehicle.accelerate()\n",
    "        vehicle.decelerate(min(self.road.length, vehicle.speed))\n",
    "        vehicle.random_brake()\n",
    "        \n",
    "    def remove_vehicles(self, vehicle):\n",
    "        if vehicle.position + vehicle.vehicle_length >=self.road.length:\n",
    "            self.road.road_state[vehicle.position:vehicle.position+vehicle.vehicle_length, 0:vehicle.vehicle_width]=0\n",
    "            return True\n",
    "        return False\n",
    "        #self.road.road_state = np.roll(self.road.road_state, -1, axis=0)\n",
    "        #self.road.road_state[-1, :] = 0\n",
    "\n",
    "\n",
    "    def update_road_state(self):\n",
    "        "
   ]
  },
  {
   "cell_type": "code",
   "execution_count": 55,
   "id": "86aa127b-cdff-49f2-83c7-40cdcd883766",
   "metadata": {},
   "outputs": [
    {
     "ename": "NameError",
     "evalue": "name 'i' is not defined",
     "output_type": "error",
     "traceback": [
      "\u001b[0;31m---------------------------------------------------------------------------\u001b[0m",
      "\u001b[0;31mNameError\u001b[0m                                 Traceback (most recent call last)",
      "Cell \u001b[0;32mIn[55], line 31\u001b[0m\n\u001b[1;32m     28\u001b[0m road \u001b[38;5;241m=\u001b[39m Road(length, width)\n\u001b[1;32m     29\u001b[0m controller \u001b[38;5;241m=\u001b[39m Controller(road, production_prob, max_speed, braking_prob)\n\u001b[0;32m---> 31\u001b[0m \u001b[43mvisualize_simulation\u001b[49m\u001b[43m(\u001b[49m\u001b[43mroad\u001b[49m\u001b[43m,\u001b[49m\u001b[43m \u001b[49m\u001b[43mcontroller\u001b[49m\u001b[43m,\u001b[49m\u001b[43m \u001b[49m\u001b[43mT\u001b[49m\u001b[43m)\u001b[49m\n",
      "Cell \u001b[0;32mIn[55], line 4\u001b[0m, in \u001b[0;36mvisualize_simulation\u001b[0;34m(road, controller, T)\u001b[0m\n\u001b[1;32m      2\u001b[0m road_states \u001b[38;5;241m=\u001b[39m []\n\u001b[1;32m      3\u001b[0m \u001b[38;5;28;01mfor\u001b[39;00m t \u001b[38;5;129;01min\u001b[39;00m \u001b[38;5;28mrange\u001b[39m(T):\n\u001b[0;32m----> 4\u001b[0m     \u001b[43mcontroller\u001b[49m\u001b[38;5;241;43m.\u001b[39;49m\u001b[43mproduce_vehicles\u001b[49m\u001b[43m(\u001b[49m\u001b[43m)\u001b[49m\n\u001b[1;32m      5\u001b[0m     controller\u001b[38;5;241m.\u001b[39mmove_vehicles()\n\u001b[1;32m      6\u001b[0m     controller\u001b[38;5;241m.\u001b[39mremove_vehicles()\n",
      "Cell \u001b[0;32mIn[54], line 21\u001b[0m, in \u001b[0;36mController.produce_vehicles\u001b[0;34m(self)\u001b[0m\n\u001b[1;32m     19\u001b[0m     \u001b[38;5;28;01mif\u001b[39;00m np\u001b[38;5;241m.\u001b[39msum(\u001b[38;5;28mself\u001b[39m\u001b[38;5;241m.\u001b[39mroad\u001b[38;5;241m.\u001b[39mroad_state[\u001b[38;5;241m0\u001b[39m:vehicle_length, \u001b[38;5;241m0\u001b[39m:vehicle_width]) \u001b[38;5;241m==\u001b[39m \u001b[38;5;241m0\u001b[39m: \u001b[38;5;66;03m#Checks if the beginning of the road is available for the vehicle\u001b[39;00m\n\u001b[1;32m     20\u001b[0m         new_vehicle \u001b[38;5;241m=\u001b[39m Vehicle(\u001b[38;5;241m0\u001b[39m, np\u001b[38;5;241m.\u001b[39mrandom\u001b[38;5;241m.\u001b[39mrandint(\u001b[38;5;241m1\u001b[39m, \u001b[38;5;28mself\u001b[39m\u001b[38;5;241m.\u001b[39mmax_speed \u001b[38;5;241m+\u001b[39m \u001b[38;5;241m1\u001b[39m), \u001b[38;5;28mself\u001b[39m\u001b[38;5;241m.\u001b[39mmax_speed, vehicle_length, vehicle_width, \u001b[38;5;28mself\u001b[39m\u001b[38;5;241m.\u001b[39mbraking_prob\u001b[38;5;241m==\u001b[39m\u001b[38;5;241m0.1\u001b[39m)\n\u001b[0;32m---> 21\u001b[0m         \u001b[38;5;28mself\u001b[39m\u001b[38;5;241m.\u001b[39mvehicles\u001b[38;5;241m.\u001b[39mappend((\u001b[43mi\u001b[49m, j, new_vehicle))\n\u001b[1;32m     22\u001b[0m         \u001b[38;5;28mself\u001b[39m\u001b[38;5;241m.\u001b[39mroad\u001b[38;5;241m.\u001b[39mroad_state[\u001b[38;5;241m0\u001b[39m:new_vehicle\u001b[38;5;241m.\u001b[39mvehicle_length, \u001b[38;5;241m0\u001b[39m:new_vehicle\u001b[38;5;241m.\u001b[39mvehicle_width] \u001b[38;5;241m=\u001b[39m \u001b[38;5;241m1\u001b[39m\n\u001b[1;32m     23\u001b[0m \u001b[38;5;28;01mreturn\u001b[39;00m\n",
      "\u001b[0;31mNameError\u001b[0m: name 'i' is not defined"
     ]
    }
   ],
   "source": [
    "def visualize_simulation(road, controller, T):\n",
    "    road_states = []\n",
    "    for t in range(T):\n",
    "        controller.produce_vehicles()\n",
    "        controller.move_vehicles()\n",
    "        controller.remove_vehicles()\n",
    "        road_states.append(road.get_road_state().copy())\n",
    "\n",
    "    road_states = np.array(road_states)\n",
    "    plt.figure(figsize=(10, 6))\n",
    "    plt.imshow(road_states, cmap='binary', origin='lower', aspect='auto')\n",
    "    plt.colorbar(label='Vehicle')\n",
    "    plt.xlabel('Position')\n",
    "    plt.ylabel('Time step')\n",
    "    plt.title('Spatiotemporal plot of traffic simulation')\n",
    "    plt.show()\n",
    "\n",
    "\n",
    "# Parameters\n",
    "length = 50  # Length of the road\n",
    "width = 2  # Width of the road\n",
    "production_prob = 0.3  # Probability of producing vehicles\n",
    "max_speed = 5  # Maximum speed of vehicles\n",
    "braking_prob = 0.05  # Probability of random braking\n",
    "T = 20  # Number of timesteps\n",
    "\n",
    "# Initialization\n",
    "road = Road(length, width)\n",
    "controller = Controller(road, production_prob, max_speed, braking_prob)\n",
    "\n",
    "visualize_simulation(road, controller, T)"
   ]
  },
  {
   "cell_type": "code",
   "execution_count": null,
   "id": "aafc8fac-046e-448b-9bef-67fe2dd47167",
   "metadata": {},
   "outputs": [],
   "source": []
  }
 ],
 "metadata": {
  "kernelspec": {
   "display_name": "Python 3 (ipykernel)",
   "language": "python",
   "name": "python3"
  },
  "language_info": {
   "codemirror_mode": {
    "name": "ipython",
    "version": 3
   },
   "file_extension": ".py",
   "mimetype": "text/x-python",
   "name": "python",
   "nbconvert_exporter": "python",
   "pygments_lexer": "ipython3",
   "version": "3.11.6"
  }
 },
 "nbformat": 4,
 "nbformat_minor": 5
}
