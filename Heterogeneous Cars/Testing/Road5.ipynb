{
 "cells": [
  {
   "cell_type": "code",
   "execution_count": 56,
   "id": "fcbd0bd8-a039-4aa2-b658-a714ad3befc6",
   "metadata": {},
   "outputs": [],
   "source": [
    "import numpy as np\n",
    "import matplotlib.pyplot as plt"
   ]
  },
  {
   "cell_type": "code",
   "execution_count": 57,
   "id": "08101db2-0475-4988-b053-06091ceb1501",
   "metadata": {},
   "outputs": [],
   "source": [
    "class Vehicle:\n",
    "    def __init__(self, position, speed, max_speed, length, width, braking_prob):\n",
    "        self.position =position\n",
    "        self.speed=speed\n",
    "        self.max_speed=max_speed\n",
    "        self.length=length\n",
    "        self.width=width\n",
    "        self.braking_prob=braking_prob\n",
    "\n",
    "    def accelerate(self):\n",
    "        if self.speed<self.max_speed:\n",
    "            self.speed += 1\n",
    "\n",
    "    def decelerate(self, headway_distance):\n",
    "        if self.speed>headway_distance:\n",
    "            self.speed=headway_distance #reduce speed equivalent to headway distance\n",
    "\n",
    "    def random_brake(self, braking_prob):\n",
    "        if np.random.rand()<braking_prob and self.speed>0:\n",
    "            self.speed-=1    "
   ]
  },
  {
   "cell_type": "code",
   "execution_count": 58,
   "id": "648b9a43-9c7a-4e6b-a42c-e850c3ddc15f",
   "metadata": {},
   "outputs": [
    {
     "data": {
      "text/plain": [
       "'I am trying bisection method for the headway but still not confident in applying it:\\n    def headway_distance(self, sorted_vehicles): #Binary search\\n        lo = 0\\n        hi = len(sorted_vehicles) - 1\\n    \\n        while lo <= hi: #BINARY SEARCH\\n            mid = (lo + hi) // 2\\n            if sorted_vehicles[mid].position > self.position:\\n                hi = mid - 1\\n            else:\\n                lo = mid + 1\\n            \\n        if lo < len(sorted_vehicles):\\n            next_car_position = sorted_vehicles[lo].position\\n        else:\\n            next_car_position = self.position + self.length\\n    \\n        return next_car_position - (self.position - self.length) #Binary Search'"
      ]
     },
     "execution_count": 58,
     "metadata": {},
     "output_type": "execute_result"
    }
   ],
   "source": [
    "#NVM\n",
    "'''I am trying bisection method for the headway but still not confident in applying it:\n",
    "    def headway_distance(self, sorted_vehicles): #Binary search\n",
    "        lo = 0\n",
    "        hi = len(sorted_vehicles) - 1\n",
    "    \n",
    "        while lo <= hi: #BINARY SEARCH\n",
    "            mid = (lo + hi) // 2\n",
    "            if sorted_vehicles[mid].position > self.position:\n",
    "                hi = mid - 1\n",
    "            else:\n",
    "                lo = mid + 1\n",
    "            \n",
    "        if lo < len(sorted_vehicles):\n",
    "            next_car_position = sorted_vehicles[lo].position\n",
    "        else:\n",
    "            next_car_position = self.position + self.length\n",
    "    \n",
    "        return next_car_position - (self.position - self.length) #Binary Search'''"
   ]
  },
  {
   "cell_type": "code",
   "execution_count": 92,
   "id": "05c7cc14-0ee0-43fa-93fd-dbf430c15edb",
   "metadata": {},
   "outputs": [],
   "source": [
    "class Road:\n",
    "    def __init__(self, length, width, max_speed, production_prob):\n",
    "        '''This initializes the characteristics of the road'''\n",
    "        self.length=length\n",
    "        self.width=width\n",
    "        self.max_speed=max_speed\n",
    "        self.production_prob=production_prob\n",
    "        self.vehicles=[] #Road array\n",
    "\n",
    "    #'''Headway distance for which vehicle?'''\n",
    "    def headway_distance(self, the_vehicle):\n",
    "        #'''Vehicle Position is the position of its rear end'''\n",
    "        #'''Calculate distance between two consecutive vehicles(Vehicle_Ahead_Rear - Vehicle_of _Interest_Front)'''\n",
    "        distance=[]\n",
    "        for other_vehicle in self.vehicles:\n",
    "            if other_vehicle.position>the_vehicle.position+the_vehicle.length:\n",
    "                distance.append(other_vehicle.position - (the_vehicle.position+the_vehicle.length))\n",
    "        return min(distance, default=self.length-(the_vehicle.position+the_vehicle.length))\n",
    "    \n",
    "    def produce_vehicles(self, production_prob):\n",
    "    #'''This method facilitates the production of vehicles based on the availability of the road'''\n",
    "        if np.random.rand()<self.production_prob:\n",
    "            vehicle_length = np.random.choice([1,2,5,9])\n",
    "            if vehicle_length == 1:\n",
    "                vehicle_width=1\n",
    "            else:\n",
    "                vehicle_width=2\n",
    "            # starting_position, starting_speed, maximum_speed, vh_len, vh_wid, braking_prob\n",
    "            if all(vehicle is None for vehicle in self.vehicles[0:vehicle_length]):         \n",
    "                # Space present; proceed with initializing vehicle and adding to system\n",
    "                new_vehicle=Vehicle(0, np.random.randint(1, self.max_speed+1), self.max_speed, vehicle_length, vehicle_width, braking_prob=0.5)\n",
    "                self.vehicles.append(new_vehicle)\n",
    "            else: # Space not present\n",
    "                pass\n",
    "\n",
    "    def remove_vehicles(self): #another portion that is inefficient (to be optimized)\n",
    "    #'''This method only retains the vehicles that are not yet at the end of the road pos[self.length]'''\n",
    "        self.vehicles=[vehicle for vehicle in self.vehicles if vehicle.position !=self.length]\n",
    "\n",
    "    def update(self):\n",
    "    #'''This method facilitates the dynamics of the road/movement of vehicles by calling all the other methods'''\n",
    "        new_vehicles=[] #This empty array initializes the vehicles to put in self.vehicles\n",
    "        for vehicle in self.vehicles: #Implements the car movement\n",
    "            headway = vehicle.headway_distance(self.vehicles)\n",
    "            vehicle.accelerate()\n",
    "            vehicle.decelerate(headway)\n",
    "            vehicle.random_brake(braking_prob=0.4)\n",
    "            new_position = vehicle.position + vehicle.speed\n",
    "            if new_position < self.length: \n",
    "                vehicle.position=new_position\n",
    "                new_vehicles.append(vehicle)\n",
    "        self.vehicles = new_vehicles\n",
    "        self.produce_vehicles(production_prob)\n",
    "        self.remove_vehicles()\n",
    "\n",
    "    def get_road_state(self):\n",
    "        road_state = np.zeros((self.length, self.width), dtype=int)\n",
    "        for vehicle in self.vehicles:\n",
    "            for i in range(vehicle.width):\n",
    "                for j in range(vehicle.length):\n",
    "                    if vehicle.position + j < self.length:\n",
    "                        road_state[vehicle.position + j, i] = 1\n",
    "                    else:\n",
    "                        break\n",
    "                    #Position nung vehicle plus yung nasa harap niya ayung occupied. In short, ang dulo ng vehicle ay indicated ng kaniyang position\n",
    "        return road_state"
   ]
  },
  {
   "cell_type": "code",
   "execution_count": 93,
   "id": "543f2d84-15af-4f52-978f-58c81fb1d793",
   "metadata": {},
   "outputs": [
    {
     "ename": "AttributeError",
     "evalue": "'Vehicle' object has no attribute 'headway_distance'",
     "output_type": "error",
     "traceback": [
      "\u001b[0;31m---------------------------------------------------------------------------\u001b[0m",
      "\u001b[0;31mAttributeError\u001b[0m                            Traceback (most recent call last)",
      "Cell \u001b[0;32mIn[93], line 24\u001b[0m\n\u001b[1;32m     22\u001b[0m T\u001b[38;5;241m=\u001b[39m\u001b[38;5;241m50\u001b[39m\n\u001b[1;32m     23\u001b[0m road \u001b[38;5;241m=\u001b[39m Road(road_length, road_width, max_speed, production_prob)\n\u001b[0;32m---> 24\u001b[0m \u001b[43mvisualize\u001b[49m\u001b[43m(\u001b[49m\u001b[43mroad\u001b[49m\u001b[43m)\u001b[49m\n\u001b[1;32m     27\u001b[0m \u001b[38;5;28;01mfor\u001b[39;00m timestep \u001b[38;5;129;01min\u001b[39;00m \u001b[38;5;28mrange\u001b[39m(\u001b[38;5;241m20\u001b[39m):\n\u001b[1;32m     28\u001b[0m     \u001b[38;5;28mprint\u001b[39m(\u001b[38;5;124m\"\u001b[39m\u001b[38;5;124mVehicles:\u001b[39m\u001b[38;5;124m\"\u001b[39m)\n",
      "Cell \u001b[0;32mIn[93], line 6\u001b[0m, in \u001b[0;36mvisualize\u001b[0;34m(self)\u001b[0m\n\u001b[1;32m      4\u001b[0m     \u001b[38;5;28;01mfor\u001b[39;00m vehicle \u001b[38;5;129;01min\u001b[39;00m road\u001b[38;5;241m.\u001b[39mvehicles:\n\u001b[1;32m      5\u001b[0m         road_state[timestep, vehicle\u001b[38;5;241m.\u001b[39mposition] \u001b[38;5;241m=\u001b[39m \u001b[38;5;241m1\u001b[39m\n\u001b[0;32m----> 6\u001b[0m     \u001b[43mroad\u001b[49m\u001b[38;5;241;43m.\u001b[39;49m\u001b[43mupdate\u001b[49m\u001b[43m(\u001b[49m\u001b[43m)\u001b[49m\n\u001b[1;32m      9\u001b[0m plt\u001b[38;5;241m.\u001b[39mimshow(road_state\u001b[38;5;241m.\u001b[39mT, cmap\u001b[38;5;241m=\u001b[39m\u001b[38;5;124m'\u001b[39m\u001b[38;5;124mbinary\u001b[39m\u001b[38;5;124m'\u001b[39m, aspect\u001b[38;5;241m=\u001b[39m\u001b[38;5;124m'\u001b[39m\u001b[38;5;124mauto\u001b[39m\u001b[38;5;124m'\u001b[39m, origin\u001b[38;5;241m=\u001b[39m\u001b[38;5;124m'\u001b[39m\u001b[38;5;124mlower\u001b[39m\u001b[38;5;124m'\u001b[39m)\n\u001b[1;32m     10\u001b[0m plt\u001b[38;5;241m.\u001b[39mxticks(\u001b[38;5;28mrange\u001b[39m(\u001b[38;5;28mself\u001b[39m\u001b[38;5;241m.\u001b[39mlength))\n",
      "Cell \u001b[0;32mIn[92], line 44\u001b[0m, in \u001b[0;36mRoad.update\u001b[0;34m(self)\u001b[0m\n\u001b[1;32m     42\u001b[0m new_vehicles\u001b[38;5;241m=\u001b[39m[] \u001b[38;5;66;03m#This empty array initializes the vehicles to put in self.vehicles\u001b[39;00m\n\u001b[1;32m     43\u001b[0m \u001b[38;5;28;01mfor\u001b[39;00m vehicle \u001b[38;5;129;01min\u001b[39;00m \u001b[38;5;28mself\u001b[39m\u001b[38;5;241m.\u001b[39mvehicles: \u001b[38;5;66;03m#Implements the car movement\u001b[39;00m\n\u001b[0;32m---> 44\u001b[0m     headway \u001b[38;5;241m=\u001b[39m \u001b[43mvehicle\u001b[49m\u001b[38;5;241;43m.\u001b[39;49m\u001b[43mheadway_distance\u001b[49m(\u001b[38;5;28mself\u001b[39m\u001b[38;5;241m.\u001b[39mvehicles)\n\u001b[1;32m     45\u001b[0m     vehicle\u001b[38;5;241m.\u001b[39maccelerate()\n\u001b[1;32m     46\u001b[0m     vehicle\u001b[38;5;241m.\u001b[39mdecelerate(headway)\n",
      "\u001b[0;31mAttributeError\u001b[0m: 'Vehicle' object has no attribute 'headway_distance'"
     ]
    }
   ],
   "source": [
    "def visualize(self):\n",
    "        road_state = np.zeros((20, self.length))\n",
    "        for timestep in range(T):\n",
    "            for vehicle in road.vehicles:\n",
    "                road_state[timestep, vehicle.position] = 1\n",
    "            road.update()\n",
    "\n",
    "        \n",
    "        plt.imshow(road_state.T, cmap='binary', aspect='auto', origin='lower')\n",
    "        plt.xticks(range(self.length))\n",
    "        plt.yticks(range(0, 21, 1))\n",
    "        plt.xlabel('Position')\n",
    "        plt.ylabel('Time Step')\n",
    "        plt.title('Road Visualization')\n",
    "        plt.show()\n",
    "\n",
    "# Example usage\n",
    "road_length = 25\n",
    "road_width = 2\n",
    "max_speed = 5\n",
    "production_prob = 0.4\n",
    "T=50\n",
    "road = Road(road_length, road_width, max_speed, production_prob)\n",
    "visualize(road)\n",
    "\n",
    "\n",
    "for timestep in range(20):\n",
    "    print(\"Vehicles:\")\n",
    "    for vehicle in road.vehicles:\n",
    "        print(f\"Position: {vehicle.position}, Speed: {vehicle.speed}, Length:{vehicle.length}, Timestep{timestep}\")\n",
    "\n",
    "    print()\n",
    "\n",
    "#STILL WRONG, BUT WILL CONTINUE LATER EVENING"
   ]
  },
  {
   "cell_type": "code",
   "execution_count": null,
   "id": "a1e63c6c-6079-41b4-969a-5e865a7073b5",
   "metadata": {},
   "outputs": [],
   "source": []
  }
 ],
 "metadata": {
  "kernelspec": {
   "display_name": "Python 3 (ipykernel)",
   "language": "python",
   "name": "python3"
  },
  "language_info": {
   "codemirror_mode": {
    "name": "ipython",
    "version": 3
   },
   "file_extension": ".py",
   "mimetype": "text/x-python",
   "name": "python",
   "nbconvert_exporter": "python",
   "pygments_lexer": "ipython3",
   "version": "3.11.6"
  }
 },
 "nbformat": 4,
 "nbformat_minor": 5
}
