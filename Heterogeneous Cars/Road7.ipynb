{
 "cells": [
  {
   "cell_type": "code",
   "execution_count": 11,
   "id": "eea38790-4d5d-4b5d-8e94-d1cd39e9a1e2",
   "metadata": {},
   "outputs": [],
   "source": [
    "import numpy as np\n",
    "import matplotlib.pyplot as plt"
   ]
  },
  {
   "cell_type": "code",
   "execution_count": 28,
   "id": "c23c3d1d-9a7f-46ff-ac18-86ddf627c966",
   "metadata": {},
   "outputs": [],
   "source": [
    "'''This object details the dynamics of a an agent(vehicle) in the simulation'''\n",
    "class Vehicle:\n",
    "    def __init__(self, position, speed, max_speed, length, width, braking_prob):\n",
    "        self.position = position\n",
    "        self.speed = speed\n",
    "        self.max_speed = max_speed\n",
    "        self.length = length\n",
    "        self.width = width\n",
    "        self.braking_prob = braking_prob\n",
    "\n",
    "    def accelerate(self):\n",
    "        if self.speed < self.max_speed:\n",
    "            self.speed += 1\n",
    "\n",
    "    def decelerate(self, headway_distance):\n",
    "        if self.speed > headway_distance:\n",
    "            self.speed = headway_distance #reduce speed equivalent to headay distance\n",
    "\n",
    "    def random_brake(self):\n",
    "        if np.random.rand() < self.braking_prob and self.speed > 0:\n",
    "            self.speed -= 1\n",
    "\n",
    "    def move(self):\n",
    "        self.speed = min(self.speed, self.length - 1)"
   ]
  },
  {
   "cell_type": "code",
   "execution_count": 29,
   "id": "33a5c18c-1a73-4e0b-a91a-537b5ce98fd3",
   "metadata": {},
   "outputs": [],
   "source": [
    "class Road:\n",
    "    def __init__(self, length, width):\n",
    "        self.length = length\n",
    "        self.width = width\n",
    "        self.road_state = np.zeros((self.length, self.width), dtype=int)\n",
    "\n",
    "    def update_road_state(self, new_state):\n",
    "        self.road_state = new_state\n",
    "\n",
    "    def get_road_state(self):\n",
    "        return self.road_state"
   ]
  },
  {
   "cell_type": "code",
   "execution_count": 30,
   "id": "73eb56fa-891a-47de-ad75-5f09c0b6dbad",
   "metadata": {},
   "outputs": [
    {
     "ename": "SyntaxError",
     "evalue": "expression cannot contain assignment, perhaps you meant \"==\"? (3161163235.py, line 19)",
     "output_type": "error",
     "traceback": [
      "\u001b[0;36m  Cell \u001b[0;32mIn[30], line 19\u001b[0;36m\u001b[0m\n\u001b[0;31m    new_vehicle = Vehicle(0, np.random.randint(1, self.max_speed + 1), self.max_speed, vehicle_length, vehicle_width, self.braking_prob=0.1)\u001b[0m\n\u001b[0m                                                                                                                      ^\u001b[0m\n\u001b[0;31mSyntaxError\u001b[0m\u001b[0;31m:\u001b[0m expression cannot contain assignment, perhaps you meant \"==\"?\n"
     ]
    }
   ],
   "source": [
    "class Controller:\n",
    "    def __init__(self, road, production_prob, max_speed, braking_prob):\n",
    "        self.road = road\n",
    "        self.production_prob = production_prob\n",
    "        self.max_speed = max_speed\n",
    "        self.braking_prob = braking_prob\n",
    "        self.vehicles = []\n",
    "\n",
    "    def produce_vehicles(self):\n",
    "        if np.random.rand() < self.production_prob:\n",
    "            vehicle_length = np.random.choice([1, 2, 5, 9])\n",
    "            if vehicle_length == 1:\n",
    "                vehicle_width = 1\n",
    "            else:\n",
    "                vehicle_width = 2\n",
    "            for i in range(self.road.length - vehicle_length + 1):\n",
    "                for j in range(self.road.width - vehicle_width + 1):\n",
    "                    if np.sum(self.road.road_state[i:i+vehicle_length, j:j+vehicle_width]) == 0:\n",
    "                        new_vehicle = Vehicle(0, np.random.randint(1, self.max_speed + 1), self.max_speed, vehicle_length, vehicle_width, self.braking_prob=0.1)\n",
    "                        self.vehicles.append((i, j, new_vehicle))\n",
    "                        self.road.road_state[i:i+vehicle_length, j:j+vehicle_width] = 1\n",
    "                        return\n",
    "\n",
    "    def move_vehicles(self):\n",
    "        new_road_state = np.zeros((self.road.length, self.road.width), dtype=int)\n",
    "        new_vehicles = []\n",
    "        for i, j, vehicle in self.vehicles:\n",
    "            vehicle.accelerate()\n",
    "            vehicle.decelerate(min(self.road.length, vehicle.speed))\n",
    "            vehicle.random_brake()\n",
    "            vehicle.move()\n",
    "            new_vehicles.append((i + vehicle.speed, j, vehicle))\n",
    "            new_road_state[i + vehicle.speed:i + vehicle.speed + vehicle.length, j:j+vehicle.length] = 1 #updates road according to vehicle movement\n",
    "        self.road.update_road_state(new_road_state)\n",
    "        self.vehicles = [(i, j, vehicle) for i, j, vehicle in new_vehicles if i + vehicle.length < self.road.length]\n",
    "\n",
    "    def remove_vehicles(self):\n",
    "        self.road.road_state = np.roll(self.road.road_state, -1, axis=0)\n",
    "        self.road.road_state[-1, :] = 0\n",
    "\n",
    "\n",
    "def visualize_simulation(road, controller, T):\n",
    "    road_states = []\n",
    "    for t in range(T):\n",
    "        controller.produce_vehicles()\n",
    "        controller.move_vehicles()\n",
    "        controller.remove_vehicles()\n",
    "        road_states.append(road.get_road_state().copy())\n",
    "\n",
    "    road_states = np.array(road_states)\n",
    "    plt.figure(figsize=(10, 6))\n",
    "    plt.imshow(road_states, cmap='binary', origin='lower', aspect='auto')\n",
    "    plt.colorbar(label='Vehicle')\n",
    "    plt.xlabel('Position')\n",
    "    plt.ylabel('Time step')\n",
    "    plt.title('Spatiotemporal plot of traffic simulation')\n",
    "    plt.show()\n",
    "\n",
    "\n",
    "# Parameters\n",
    "length = 50  # Length of the road\n",
    "width = 2  # Width of the road\n",
    "production_prob = 0.3  # Probability of producing vehicles\n",
    "max_speed = 5  # Maximum speed of vehicles\n",
    "braking_prob = 0.05  # Probability of random braking\n",
    "T = 20  # Number of timesteps\n",
    "\n",
    "# Initialization\n",
    "road = Road(length, width)\n",
    "controller = Controller(road, production_prob, max_speed, braking_prob)\n",
    "\n",
    "visualize_simulation(road, controller, T)"
   ]
  },
  {
   "cell_type": "code",
   "execution_count": null,
   "id": "00d751e0-ae45-452d-ba88-e6133e3902e5",
   "metadata": {},
   "outputs": [],
   "source": []
  }
 ],
 "metadata": {
  "kernelspec": {
   "display_name": "Python 3 (ipykernel)",
   "language": "python",
   "name": "python3"
  },
  "language_info": {
   "codemirror_mode": {
    "name": "ipython",
    "version": 3
   },
   "file_extension": ".py",
   "mimetype": "text/x-python",
   "name": "python",
   "nbconvert_exporter": "python",
   "pygments_lexer": "ipython3",
   "version": "3.11.6"
  }
 },
 "nbformat": 4,
 "nbformat_minor": 5
}
