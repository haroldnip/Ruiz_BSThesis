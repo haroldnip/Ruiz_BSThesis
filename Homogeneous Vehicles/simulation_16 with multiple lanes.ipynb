{
 "cells": [
  {
   "cell_type": "code",
   "execution_count": 1,
   "id": "f334096b-b45d-4da8-90c6-a571856355e7",
   "metadata": {},
   "outputs": [],
   "source": [
    "import numpy as np\n",
    "import matplotlib.pyplot as plt\n",
    "import csv"
   ]
  },
  {
   "cell_type": "markdown",
   "id": "db77bd93-b021-48f7-b466-8d3a2ac4a74f",
   "metadata": {},
   "source": [
    "In this case, we will try to lane roads"
   ]
  },
  {
   "cell_type": "code",
   "execution_count": 2,
   "id": "b52b50c9-3a34-4749-883f-8c0aacfb0eaf",
   "metadata": {},
   "outputs": [],
   "source": [
    "class Vehicle:\n",
    "    def __init__(self, vehicle_id, position, speed, max_speed, braking_prob):\n",
    "        self.vehicle_id = vehicle_id\n",
    "        self.position = position\n",
    "        self.speed = speed\n",
    "        self.max_speed = max_speed\n",
    "        self.braking_prob = braking_prob\n",
    "\n",
    "    def accelerate(self):\n",
    "        if self.speed < self.max_speed:\n",
    "            self.speed += 1\n",
    "\n",
    "    def decelerate(self, gap_distance):\n",
    "        if self.speed > gap_distance:\n",
    "            self.speed = gap_distance\n",
    "\n",
    "    def randomize(self, braking_prob):\n",
    "        if np.random.rand() < braking_prob:\n",
    "            if self.speed > 0:\n",
    "                self.speed -= 1"
   ]
  },
  {
   "cell_type": "code",
   "execution_count": 3,
   "id": "bba475bd-825a-48a9-b8ee-fca460b32ca1",
   "metadata": {},
   "outputs": [],
   "source": [
    "class Road_Configuration:\n",
    "    def __init__(self, road_length, road_width, production_prob, max_speed):\n",
    "        self.road_length = road_length\n",
    "        self.road_width = road_width\n",
    "        self.production_prob = production_prob\n",
    "        self.max_speed = max_speed\n",
    "        self.road_occupancy = np.zeros((self.road_length, self.road_width), dtype=int)\n",
    "        self.vehicles = []\n",
    "        self.vehicle_counter = 0  # To assign unique IDs to vehicles\n",
    "\n",
    "    def update_occupancy(self):\n",
    "        self.road_occupancy.fill(0)  # Reset occupancy grid\n",
    "        for vehicle in self.vehicles:\n",
    "            if vehicle.position < self.road_length:  # Only update occupancy if within road length\n",
    "                self.road_occupancy[vehicle.position, 0] = 1  # Assuming single-lane for simplicity\n",
    "\n",
    "    def produce_vehicles(self):\n",
    "        if np.random.rand() < self.production_prob:\n",
    "            if np.sum(self.road_occupancy[0, :]) == 0:  # Check the availability of the first cell\n",
    "                new_vehicle = Vehicle(self.vehicle_counter, 0, np.random.randint(1, self.max_speed + 1), self.max_speed, 0.01)\n",
    "                self.vehicle_counter += 1\n",
    "                self.vehicles.append(new_vehicle)\n",
    "                self.road_occupancy[new_vehicle.position, 0] = 1  # Mark the position as occupied\n",
    "\n",
    "    def gap_distance(self, vehicle):\n",
    "        current_position = vehicle.position\n",
    "        for distance in range(1, self.road_length):\n",
    "            next_position = current_position + distance\n",
    "            if next_position >= self.road_length:\n",
    "                break\n",
    "            if self.road_occupancy[next_position, 0] == 1:\n",
    "                return distance - 1\n",
    "        return self.road_length - 1\n",
    "\n",
    "    def update(self): #updates the road configuration based on nagel-schreckenberg rules\n",
    "        self.update_occupancy()\n",
    "        for vehicle in self.vehicles:\n",
    "            distance_to_next = self.gap_distance(vehicle)\n",
    "            vehicle.accelerate()\n",
    "            vehicle.decelerate(distance_to_next)\n",
    "            vehicle.randomize(vehicle.braking_prob)\n",
    "            vehicle.position += vehicle.speed\n",
    "\n",
    "        self.update_occupancy()\n",
    "\n",
    "    def vehicle_density(self): #computes the density of the road for data processing\n",
    "        return len(self.vehicles) / self.road_length"
   ]
  },
  {
   "cell_type": "code",
   "execution_count": null,
   "id": "b0efa8eb-b182-4f2f-808a-a89cb1db2a4f",
   "metadata": {},
   "outputs": [],
   "source": []
  }
 ],
 "metadata": {
  "kernelspec": {
   "display_name": "Python 3 (ipykernel)",
   "language": "python",
   "name": "python3"
  },
  "language_info": {
   "codemirror_mode": {
    "name": "ipython",
    "version": 3
   },
   "file_extension": ".py",
   "mimetype": "text/x-python",
   "name": "python",
   "nbconvert_exporter": "python",
   "pygments_lexer": "ipython3",
   "version": "3.11.7"
  }
 },
 "nbformat": 4,
 "nbformat_minor": 5
}
