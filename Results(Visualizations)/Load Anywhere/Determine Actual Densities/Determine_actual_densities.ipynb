{
 "cells": [
  {
   "cell_type": "code",
   "execution_count": null,
   "id": "70ad338b-47ae-43d6-87f7-d2eed29ff2cb",
   "metadata": {},
   "outputs": [],
   "source": [
    "import os\n",
    "import pandas as pd\n",
    "import numpy as np\n",
    "\n",
    "# Define base directory 3 levels up\n",
    "base_dir = os.path.abspath(os.path.join(os.getcwd(), '../../../Load Anywhere Output'))\n",
    "\n",
    "# Loop through all case folders inside Load Anywhere Output\n",
    "for case_folder in sorted(os.listdir(base_dir)):\n",
    "    case_path = os.path.join(base_dir, case_folder)\n",
    "    if not os.path.isdir(case_path):\n",
    "        continue\n",
    "\n",
    "    for kappa_folder in sorted(os.listdir(case_path)):\n",
    "        if not kappa_folder.startswith(\"Kappa_\"):\n",
    "            continue\n",
    "        kappa_val = kappa_folder.replace(\"Kappa_\", \"\")\n",
    "        kappa_path = os.path.join(case_path, kappa_folder)\n",
    "\n",
    "        for density_folder in sorted(os.listdir(kappa_path)):\n",
    "            if not density_folder.startswith(\"Density_\"):\n",
    "                continue\n",
    "            density_val = density_folder.replace(\"Density_\", \"\")\n",
    "            density_path = os.path.join(kappa_path, density_folder)\n",
    "\n",
    "            for rate_folder in sorted(os.listdir(density_path)):\n",
    "                if not rate_folder.startswith(\"PassengerRate_\"):\n",
    "                    continue\n",
    "                rate_val = rate_folder.replace(\"PassengerRate_\", \"\")\n",
    "                timestep_summary_dir = os.path.join(density_path, rate_folder, \"TimestepSummary\")\n",
    "\n",
    "                if not os.path.exists(timestep_summary_dir):\n",
    "                    continue\n",
    "\n",
    "                actual_densities = []\n",
    "\n",
    "                for file in sorted(os.listdir(timestep_summary_dir)):\n",
    "                    if file.startswith(\"Trial_\") and file.endswith(\".csv\"):\n",
    "                        file_path = os.path.join(timestep_summary_dir, file)\n",
    "                        df = pd.read_csv(file_path)\n",
    "                        timestep_9999 = df[df[\"Timestep\"] == 9999]\n",
    "                        if not timestep_9999.empty:\n",
    "                            actual_density = timestep_9999[\"Actual Density\"].values[0]\n",
    "                            actual_densities.append(actual_density)\n",
    "\n",
    "                if actual_densities:\n",
    "                    mean_density = np.mean(actual_densities)\n",
    "                    std_density = np.std(actual_densities)\n",
    "\n",
    "                    print(f\"{case_folder} | Kappa: {kappa_val} | Density: {density_val} | Rate: {rate_val} | Mean: {mean_density:.5f} | Std: {std_density:.5f}\")"
   ]
  }
 ],
 "metadata": {
  "kernelspec": {
   "display_name": "Python [conda env:cx_team]",
   "language": "python",
   "name": "conda-env-cx_team-py"
  },
  "language_info": {
   "codemirror_mode": {
    "name": "ipython",
    "version": 3
   },
   "file_extension": ".py",
   "mimetype": "text/x-python",
   "name": "python",
   "nbconvert_exporter": "python",
   "pygments_lexer": "ipython3",
   "version": "3.11.6"
  }
 },
 "nbformat": 4,
 "nbformat_minor": 5
}
